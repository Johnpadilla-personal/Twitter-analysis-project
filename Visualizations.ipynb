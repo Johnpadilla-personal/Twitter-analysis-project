{
 "cells": [
  {
   "cell_type": "code",
   "execution_count": 29,
   "metadata": {},
   "outputs": [
    {
     "data": {
      "application/vnd.plotly.v1+json": {
       "config": {
        "plotlyServerURL": "https://plot.ly"
       },
       "data": [
        {
         "legendgroup": "Negative",
         "marker": {
          "color": "red",
          "symbol": "circle"
         },
         "mode": "markers",
         "name": "Negative",
         "showlegend": true,
         "type": "scatter",
         "x": [
          55,
          97,
          116,
          73,
          85,
          73,
          101,
          141,
          66,
          65,
          116,
          293,
          220,
          61,
          479,
          195,
          483,
          179,
          54,
          40,
          24,
          72,
          27,
          69,
          70,
          179,
          182,
          65,
          187,
          136,
          80,
          58,
          102,
          241,
          99,
          108,
          435,
          49,
          84,
          22
         ],
         "xaxis": "x",
         "y": [
          156,
          269,
          293,
          190,
          205,
          235,
          210,
          348,
          231,
          201,
          224,
          554,
          456,
          175,
          717,
          1210,
          1562,
          843,
          201,
          160,
          91,
          264,
          0,
          222,
          175,
          606,
          1028,
          245,
          409,
          337,
          342,
          257,
          234,
          845,
          248,
          282,
          1018,
          198,
          218,
          62
         ],
         "yaxis": "y"
        },
        {
         "alignmentgroup": "True",
         "bingroup": "x",
         "legendgroup": "Negative",
         "marker": {
          "color": "red"
         },
         "name": "Negative",
         "offsetgroup": "Negative",
         "opacity": 0.5,
         "showlegend": false,
         "type": "histogram",
         "x": [
          55,
          97,
          116,
          73,
          85,
          73,
          101,
          141,
          66,
          65,
          116,
          293,
          220,
          61,
          479,
          195,
          483,
          179,
          54,
          40,
          24,
          72,
          27,
          69,
          70,
          179,
          182,
          65,
          187,
          136,
          80,
          58,
          102,
          241,
          99,
          108,
          435,
          49,
          84,
          22
         ],
         "xaxis": "x3",
         "yaxis": "y3"
        },
        {
         "alignmentgroup": "True",
         "bingroup": "y",
         "legendgroup": "Negative",
         "marker": {
          "color": "red"
         },
         "name": "Negative",
         "offsetgroup": "Negative",
         "opacity": 0.5,
         "showlegend": false,
         "type": "histogram",
         "xaxis": "x2",
         "y": [
          156,
          269,
          293,
          190,
          205,
          235,
          210,
          348,
          231,
          201,
          224,
          554,
          456,
          175,
          717,
          1210,
          1562,
          843,
          201,
          160,
          91,
          264,
          0,
          222,
          175,
          606,
          1028,
          245,
          409,
          337,
          342,
          257,
          234,
          845,
          248,
          282,
          1018,
          198,
          218,
          62
         ],
         "yaxis": "y2"
        },
        {
         "legendgroup": "Positive",
         "marker": {
          "color": "green",
          "symbol": "circle"
         },
         "mode": "markers",
         "name": "Positive",
         "showlegend": true,
         "type": "scatter",
         "x": [
          381,
          33,
          89,
          125,
          61,
          318,
          65,
          84,
          87,
          268,
          41,
          145,
          100,
          63,
          77,
          51,
          54,
          185,
          234,
          255,
          202,
          48,
          115,
          46,
          30,
          115,
          38,
          159,
          115,
          42,
          520,
          81,
          42,
          91,
          42,
          92,
          240,
          105,
          742,
          379,
          48,
          62,
          65,
          64,
          48,
          63,
          182,
          87,
          71,
          108,
          98,
          60,
          452,
          47,
          71,
          43,
          79,
          435,
          401,
          178,
          197,
          3390,
          230,
          114,
          75,
          374,
          91,
          401,
          103,
          112,
          88,
          54,
          43,
          88,
          111,
          246,
          68,
          78,
          65,
          147,
          275,
          32,
          99,
          254,
          188,
          46,
          199,
          129,
          40,
          72,
          97,
          0
         ],
         "xaxis": "x",
         "y": [
          824,
          149,
          193,
          0,
          208,
          1266,
          189,
          190,
          270,
          456,
          116,
          277,
          251,
          200,
          168,
          203,
          234,
          616,
          451,
          613,
          579,
          158,
          376,
          182,
          91,
          303,
          163,
          373,
          421,
          202,
          2976,
          184,
          0,
          278,
          156,
          377,
          511,
          0,
          0,
          1830,
          156,
          284,
          317,
          281,
          270,
          296,
          416,
          210,
          275,
          351,
          280,
          133,
          1267,
          148,
          267,
          141,
          180,
          741,
          1742,
          638,
          631,
          9178,
          450,
          274,
          297,
          1527,
          239,
          2423,
          322,
          384,
          210,
          310,
          0,
          316,
          508,
          462,
          135,
          226,
          204,
          669,
          850,
          113,
          354,
          365,
          826,
          263,
          668,
          324,
          149,
          190,
          271,
          0
         ],
         "yaxis": "y"
        },
        {
         "alignmentgroup": "True",
         "bingroup": "x",
         "legendgroup": "Positive",
         "marker": {
          "color": "green"
         },
         "name": "Positive",
         "offsetgroup": "Positive",
         "opacity": 0.5,
         "showlegend": false,
         "type": "histogram",
         "x": [
          381,
          33,
          89,
          125,
          61,
          318,
          65,
          84,
          87,
          268,
          41,
          145,
          100,
          63,
          77,
          51,
          54,
          185,
          234,
          255,
          202,
          48,
          115,
          46,
          30,
          115,
          38,
          159,
          115,
          42,
          520,
          81,
          42,
          91,
          42,
          92,
          240,
          105,
          742,
          379,
          48,
          62,
          65,
          64,
          48,
          63,
          182,
          87,
          71,
          108,
          98,
          60,
          452,
          47,
          71,
          43,
          79,
          435,
          401,
          178,
          197,
          3390,
          230,
          114,
          75,
          374,
          91,
          401,
          103,
          112,
          88,
          54,
          43,
          88,
          111,
          246,
          68,
          78,
          65,
          147,
          275,
          32,
          99,
          254,
          188,
          46,
          199,
          129,
          40,
          72,
          97,
          0
         ],
         "xaxis": "x3",
         "yaxis": "y3"
        },
        {
         "alignmentgroup": "True",
         "bingroup": "y",
         "legendgroup": "Positive",
         "marker": {
          "color": "green"
         },
         "name": "Positive",
         "offsetgroup": "Positive",
         "opacity": 0.5,
         "showlegend": false,
         "type": "histogram",
         "xaxis": "x2",
         "y": [
          824,
          149,
          193,
          0,
          208,
          1266,
          189,
          190,
          270,
          456,
          116,
          277,
          251,
          200,
          168,
          203,
          234,
          616,
          451,
          613,
          579,
          158,
          376,
          182,
          91,
          303,
          163,
          373,
          421,
          202,
          2976,
          184,
          0,
          278,
          156,
          377,
          511,
          0,
          0,
          1830,
          156,
          284,
          317,
          281,
          270,
          296,
          416,
          210,
          275,
          351,
          280,
          133,
          1267,
          148,
          267,
          141,
          180,
          741,
          1742,
          638,
          631,
          9178,
          450,
          274,
          297,
          1527,
          239,
          2423,
          322,
          384,
          210,
          310,
          0,
          316,
          508,
          462,
          135,
          226,
          204,
          669,
          850,
          113,
          354,
          365,
          826,
          263,
          668,
          324,
          149,
          190,
          271,
          0
         ],
         "yaxis": "y2"
        },
        {
         "legendgroup": "Nuetral",
         "marker": {
          "color": "blue",
          "symbol": "circle"
         },
         "mode": "markers",
         "name": "Nuetral",
         "showlegend": true,
         "type": "scatter",
         "x": [
          49,
          73,
          259,
          27,
          116,
          68,
          728,
          31,
          121,
          768,
          50,
          44,
          154,
          454,
          98,
          88,
          273,
          294,
          80,
          233,
          285,
          218,
          115,
          223,
          59,
          24,
          41,
          101,
          33,
          34,
          65,
          38,
          100,
          47,
          38,
          158,
          42,
          77,
          178,
          128,
          593,
          30,
          68,
          70,
          206,
          91,
          84,
          137,
          88,
          811,
          136,
          67,
          81,
          73,
          55,
          56,
          67,
          425,
          167,
          37,
          205,
          92,
          150,
          78,
          122,
          80,
          204,
          26
         ],
         "xaxis": "x",
         "y": [
          247,
          267,
          549,
          115,
          289,
          349,
          1848,
          96,
          723,
          4432,
          140,
          175,
          1137,
          1642,
          374,
          245,
          3214,
          637,
          207,
          870,
          1691,
          955,
          279,
          646,
          164,
          102,
          157,
          179,
          117,
          112,
          238,
          130,
          407,
          176,
          119,
          508,
          173,
          234,
          783,
          245,
          1444,
          106,
          200,
          248,
          869,
          237,
          316,
          715,
          262,
          4981,
          278,
          182,
          206,
          206,
          225,
          172,
          164,
          1839,
          729,
          133,
          418,
          0,
          457,
          233,
          0,
          209,
          729,
          93
         ],
         "yaxis": "y"
        },
        {
         "alignmentgroup": "True",
         "bingroup": "x",
         "legendgroup": "Nuetral",
         "marker": {
          "color": "blue"
         },
         "name": "Nuetral",
         "offsetgroup": "Nuetral",
         "opacity": 0.5,
         "showlegend": false,
         "type": "histogram",
         "x": [
          49,
          73,
          259,
          27,
          116,
          68,
          728,
          31,
          121,
          768,
          50,
          44,
          154,
          454,
          98,
          88,
          273,
          294,
          80,
          233,
          285,
          218,
          115,
          223,
          59,
          24,
          41,
          101,
          33,
          34,
          65,
          38,
          100,
          47,
          38,
          158,
          42,
          77,
          178,
          128,
          593,
          30,
          68,
          70,
          206,
          91,
          84,
          137,
          88,
          811,
          136,
          67,
          81,
          73,
          55,
          56,
          67,
          425,
          167,
          37,
          205,
          92,
          150,
          78,
          122,
          80,
          204,
          26
         ],
         "xaxis": "x3",
         "yaxis": "y3"
        },
        {
         "alignmentgroup": "True",
         "bingroup": "y",
         "legendgroup": "Nuetral",
         "marker": {
          "color": "blue"
         },
         "name": "Nuetral",
         "offsetgroup": "Nuetral",
         "opacity": 0.5,
         "showlegend": false,
         "type": "histogram",
         "xaxis": "x2",
         "y": [
          247,
          267,
          549,
          115,
          289,
          349,
          1848,
          96,
          723,
          4432,
          140,
          175,
          1137,
          1642,
          374,
          245,
          3214,
          637,
          207,
          870,
          1691,
          955,
          279,
          646,
          164,
          102,
          157,
          179,
          117,
          112,
          238,
          130,
          407,
          176,
          119,
          508,
          173,
          234,
          783,
          245,
          1444,
          106,
          200,
          248,
          869,
          237,
          316,
          715,
          262,
          4981,
          278,
          182,
          206,
          206,
          225,
          172,
          164,
          1839,
          729,
          133,
          418,
          0,
          457,
          233,
          0,
          209,
          729,
          93
         ],
         "yaxis": "y2"
        }
       ],
       "layout": {
        "barmode": "overlay",
        "legend": {
         "title": {
          "text": "Sentiment"
         },
         "tracegroupgap": 0,
         "x": 0.8,
         "y": 1
        },
        "template": {
         "data": {
          "bar": [
           {
            "error_x": {
             "color": "#f2f5fa"
            },
            "error_y": {
             "color": "#f2f5fa"
            },
            "marker": {
             "line": {
              "color": "rgb(17,17,17)",
              "width": 0.5
             }
            },
            "type": "bar"
           }
          ],
          "barpolar": [
           {
            "marker": {
             "line": {
              "color": "rgb(17,17,17)",
              "width": 0.5
             }
            },
            "type": "barpolar"
           }
          ],
          "carpet": [
           {
            "aaxis": {
             "endlinecolor": "#A2B1C6",
             "gridcolor": "#506784",
             "linecolor": "#506784",
             "minorgridcolor": "#506784",
             "startlinecolor": "#A2B1C6"
            },
            "baxis": {
             "endlinecolor": "#A2B1C6",
             "gridcolor": "#506784",
             "linecolor": "#506784",
             "minorgridcolor": "#506784",
             "startlinecolor": "#A2B1C6"
            },
            "type": "carpet"
           }
          ],
          "choropleth": [
           {
            "colorbar": {
             "outlinewidth": 0,
             "ticks": ""
            },
            "type": "choropleth"
           }
          ],
          "contour": [
           {
            "colorbar": {
             "outlinewidth": 0,
             "ticks": ""
            },
            "colorscale": [
             [
              0,
              "#0d0887"
             ],
             [
              0.1111111111111111,
              "#46039f"
             ],
             [
              0.2222222222222222,
              "#7201a8"
             ],
             [
              0.3333333333333333,
              "#9c179e"
             ],
             [
              0.4444444444444444,
              "#bd3786"
             ],
             [
              0.5555555555555556,
              "#d8576b"
             ],
             [
              0.6666666666666666,
              "#ed7953"
             ],
             [
              0.7777777777777778,
              "#fb9f3a"
             ],
             [
              0.8888888888888888,
              "#fdca26"
             ],
             [
              1,
              "#f0f921"
             ]
            ],
            "type": "contour"
           }
          ],
          "contourcarpet": [
           {
            "colorbar": {
             "outlinewidth": 0,
             "ticks": ""
            },
            "type": "contourcarpet"
           }
          ],
          "heatmap": [
           {
            "colorbar": {
             "outlinewidth": 0,
             "ticks": ""
            },
            "colorscale": [
             [
              0,
              "#0d0887"
             ],
             [
              0.1111111111111111,
              "#46039f"
             ],
             [
              0.2222222222222222,
              "#7201a8"
             ],
             [
              0.3333333333333333,
              "#9c179e"
             ],
             [
              0.4444444444444444,
              "#bd3786"
             ],
             [
              0.5555555555555556,
              "#d8576b"
             ],
             [
              0.6666666666666666,
              "#ed7953"
             ],
             [
              0.7777777777777778,
              "#fb9f3a"
             ],
             [
              0.8888888888888888,
              "#fdca26"
             ],
             [
              1,
              "#f0f921"
             ]
            ],
            "type": "heatmap"
           }
          ],
          "heatmapgl": [
           {
            "colorbar": {
             "outlinewidth": 0,
             "ticks": ""
            },
            "colorscale": [
             [
              0,
              "#0d0887"
             ],
             [
              0.1111111111111111,
              "#46039f"
             ],
             [
              0.2222222222222222,
              "#7201a8"
             ],
             [
              0.3333333333333333,
              "#9c179e"
             ],
             [
              0.4444444444444444,
              "#bd3786"
             ],
             [
              0.5555555555555556,
              "#d8576b"
             ],
             [
              0.6666666666666666,
              "#ed7953"
             ],
             [
              0.7777777777777778,
              "#fb9f3a"
             ],
             [
              0.8888888888888888,
              "#fdca26"
             ],
             [
              1,
              "#f0f921"
             ]
            ],
            "type": "heatmapgl"
           }
          ],
          "histogram": [
           {
            "marker": {
             "colorbar": {
              "outlinewidth": 0,
              "ticks": ""
             }
            },
            "type": "histogram"
           }
          ],
          "histogram2d": [
           {
            "colorbar": {
             "outlinewidth": 0,
             "ticks": ""
            },
            "colorscale": [
             [
              0,
              "#0d0887"
             ],
             [
              0.1111111111111111,
              "#46039f"
             ],
             [
              0.2222222222222222,
              "#7201a8"
             ],
             [
              0.3333333333333333,
              "#9c179e"
             ],
             [
              0.4444444444444444,
              "#bd3786"
             ],
             [
              0.5555555555555556,
              "#d8576b"
             ],
             [
              0.6666666666666666,
              "#ed7953"
             ],
             [
              0.7777777777777778,
              "#fb9f3a"
             ],
             [
              0.8888888888888888,
              "#fdca26"
             ],
             [
              1,
              "#f0f921"
             ]
            ],
            "type": "histogram2d"
           }
          ],
          "histogram2dcontour": [
           {
            "colorbar": {
             "outlinewidth": 0,
             "ticks": ""
            },
            "colorscale": [
             [
              0,
              "#0d0887"
             ],
             [
              0.1111111111111111,
              "#46039f"
             ],
             [
              0.2222222222222222,
              "#7201a8"
             ],
             [
              0.3333333333333333,
              "#9c179e"
             ],
             [
              0.4444444444444444,
              "#bd3786"
             ],
             [
              0.5555555555555556,
              "#d8576b"
             ],
             [
              0.6666666666666666,
              "#ed7953"
             ],
             [
              0.7777777777777778,
              "#fb9f3a"
             ],
             [
              0.8888888888888888,
              "#fdca26"
             ],
             [
              1,
              "#f0f921"
             ]
            ],
            "type": "histogram2dcontour"
           }
          ],
          "mesh3d": [
           {
            "colorbar": {
             "outlinewidth": 0,
             "ticks": ""
            },
            "type": "mesh3d"
           }
          ],
          "parcoords": [
           {
            "line": {
             "colorbar": {
              "outlinewidth": 0,
              "ticks": ""
             }
            },
            "type": "parcoords"
           }
          ],
          "pie": [
           {
            "automargin": true,
            "type": "pie"
           }
          ],
          "scatter": [
           {
            "marker": {
             "line": {
              "color": "#283442"
             }
            },
            "type": "scatter"
           }
          ],
          "scatter3d": [
           {
            "line": {
             "colorbar": {
              "outlinewidth": 0,
              "ticks": ""
             }
            },
            "marker": {
             "colorbar": {
              "outlinewidth": 0,
              "ticks": ""
             }
            },
            "type": "scatter3d"
           }
          ],
          "scattercarpet": [
           {
            "marker": {
             "colorbar": {
              "outlinewidth": 0,
              "ticks": ""
             }
            },
            "type": "scattercarpet"
           }
          ],
          "scattergeo": [
           {
            "marker": {
             "colorbar": {
              "outlinewidth": 0,
              "ticks": ""
             }
            },
            "type": "scattergeo"
           }
          ],
          "scattergl": [
           {
            "marker": {
             "line": {
              "color": "#283442"
             }
            },
            "type": "scattergl"
           }
          ],
          "scattermapbox": [
           {
            "marker": {
             "colorbar": {
              "outlinewidth": 0,
              "ticks": ""
             }
            },
            "type": "scattermapbox"
           }
          ],
          "scatterpolar": [
           {
            "marker": {
             "colorbar": {
              "outlinewidth": 0,
              "ticks": ""
             }
            },
            "type": "scatterpolar"
           }
          ],
          "scatterpolargl": [
           {
            "marker": {
             "colorbar": {
              "outlinewidth": 0,
              "ticks": ""
             }
            },
            "type": "scatterpolargl"
           }
          ],
          "scatterternary": [
           {
            "marker": {
             "colorbar": {
              "outlinewidth": 0,
              "ticks": ""
             }
            },
            "type": "scatterternary"
           }
          ],
          "surface": [
           {
            "colorbar": {
             "outlinewidth": 0,
             "ticks": ""
            },
            "colorscale": [
             [
              0,
              "#0d0887"
             ],
             [
              0.1111111111111111,
              "#46039f"
             ],
             [
              0.2222222222222222,
              "#7201a8"
             ],
             [
              0.3333333333333333,
              "#9c179e"
             ],
             [
              0.4444444444444444,
              "#bd3786"
             ],
             [
              0.5555555555555556,
              "#d8576b"
             ],
             [
              0.6666666666666666,
              "#ed7953"
             ],
             [
              0.7777777777777778,
              "#fb9f3a"
             ],
             [
              0.8888888888888888,
              "#fdca26"
             ],
             [
              1,
              "#f0f921"
             ]
            ],
            "type": "surface"
           }
          ],
          "table": [
           {
            "cells": {
             "fill": {
              "color": "#506784"
             },
             "line": {
              "color": "rgb(17,17,17)"
             }
            },
            "header": {
             "fill": {
              "color": "#2a3f5f"
             },
             "line": {
              "color": "rgb(17,17,17)"
             }
            },
            "type": "table"
           }
          ]
         },
         "layout": {
          "annotationdefaults": {
           "arrowcolor": "#f2f5fa",
           "arrowhead": 0,
           "arrowwidth": 1
          },
          "coloraxis": {
           "colorbar": {
            "outlinewidth": 0,
            "ticks": ""
           }
          },
          "colorscale": {
           "diverging": [
            [
             0,
             "#8e0152"
            ],
            [
             0.1,
             "#c51b7d"
            ],
            [
             0.2,
             "#de77ae"
            ],
            [
             0.3,
             "#f1b6da"
            ],
            [
             0.4,
             "#fde0ef"
            ],
            [
             0.5,
             "#f7f7f7"
            ],
            [
             0.6,
             "#e6f5d0"
            ],
            [
             0.7,
             "#b8e186"
            ],
            [
             0.8,
             "#7fbc41"
            ],
            [
             0.9,
             "#4d9221"
            ],
            [
             1,
             "#276419"
            ]
           ],
           "sequential": [
            [
             0,
             "#0d0887"
            ],
            [
             0.1111111111111111,
             "#46039f"
            ],
            [
             0.2222222222222222,
             "#7201a8"
            ],
            [
             0.3333333333333333,
             "#9c179e"
            ],
            [
             0.4444444444444444,
             "#bd3786"
            ],
            [
             0.5555555555555556,
             "#d8576b"
            ],
            [
             0.6666666666666666,
             "#ed7953"
            ],
            [
             0.7777777777777778,
             "#fb9f3a"
            ],
            [
             0.8888888888888888,
             "#fdca26"
            ],
            [
             1,
             "#f0f921"
            ]
           ],
           "sequentialminus": [
            [
             0,
             "#0d0887"
            ],
            [
             0.1111111111111111,
             "#46039f"
            ],
            [
             0.2222222222222222,
             "#7201a8"
            ],
            [
             0.3333333333333333,
             "#9c179e"
            ],
            [
             0.4444444444444444,
             "#bd3786"
            ],
            [
             0.5555555555555556,
             "#d8576b"
            ],
            [
             0.6666666666666666,
             "#ed7953"
            ],
            [
             0.7777777777777778,
             "#fb9f3a"
            ],
            [
             0.8888888888888888,
             "#fdca26"
            ],
            [
             1,
             "#f0f921"
            ]
           ]
          },
          "colorway": [
           "#636efa",
           "#EF553B",
           "#00cc96",
           "#ab63fa",
           "#FFA15A",
           "#19d3f3",
           "#FF6692",
           "#B6E880",
           "#FF97FF",
           "#FECB52"
          ],
          "font": {
           "color": "#f2f5fa"
          },
          "geo": {
           "bgcolor": "rgb(17,17,17)",
           "lakecolor": "rgb(17,17,17)",
           "landcolor": "rgb(17,17,17)",
           "showlakes": true,
           "showland": true,
           "subunitcolor": "#506784"
          },
          "hoverlabel": {
           "align": "left"
          },
          "hovermode": "closest",
          "mapbox": {
           "style": "dark"
          },
          "paper_bgcolor": "rgb(17,17,17)",
          "plot_bgcolor": "rgb(17,17,17)",
          "polar": {
           "angularaxis": {
            "gridcolor": "#506784",
            "linecolor": "#506784",
            "ticks": ""
           },
           "bgcolor": "rgb(17,17,17)",
           "radialaxis": {
            "gridcolor": "#506784",
            "linecolor": "#506784",
            "ticks": ""
           }
          },
          "scene": {
           "xaxis": {
            "backgroundcolor": "rgb(17,17,17)",
            "gridcolor": "#506784",
            "gridwidth": 2,
            "linecolor": "#506784",
            "showbackground": true,
            "ticks": "",
            "zerolinecolor": "#C8D4E3"
           },
           "yaxis": {
            "backgroundcolor": "rgb(17,17,17)",
            "gridcolor": "#506784",
            "gridwidth": 2,
            "linecolor": "#506784",
            "showbackground": true,
            "ticks": "",
            "zerolinecolor": "#C8D4E3"
           },
           "zaxis": {
            "backgroundcolor": "rgb(17,17,17)",
            "gridcolor": "#506784",
            "gridwidth": 2,
            "linecolor": "#506784",
            "showbackground": true,
            "ticks": "",
            "zerolinecolor": "#C8D4E3"
           }
          },
          "shapedefaults": {
           "line": {
            "color": "#f2f5fa"
           }
          },
          "sliderdefaults": {
           "bgcolor": "#C8D4E3",
           "bordercolor": "rgb(17,17,17)",
           "borderwidth": 1,
           "tickwidth": 0
          },
          "ternary": {
           "aaxis": {
            "gridcolor": "#506784",
            "linecolor": "#506784",
            "ticks": ""
           },
           "baxis": {
            "gridcolor": "#506784",
            "linecolor": "#506784",
            "ticks": ""
           },
           "bgcolor": "rgb(17,17,17)",
           "caxis": {
            "gridcolor": "#506784",
            "linecolor": "#506784",
            "ticks": ""
           }
          },
          "title": {
           "x": 0.05
          },
          "updatemenudefaults": {
           "bgcolor": "#506784",
           "borderwidth": 0
          },
          "xaxis": {
           "automargin": true,
           "gridcolor": "#283442",
           "linecolor": "#506784",
           "ticks": "",
           "title": {
            "standoff": 15
           },
           "zerolinecolor": "#283442",
           "zerolinewidth": 2
          },
          "yaxis": {
           "automargin": true,
           "gridcolor": "#283442",
           "linecolor": "#506784",
           "ticks": "",
           "title": {
            "standoff": 15
           },
           "zerolinecolor": "#283442",
           "zerolinewidth": 2
          }
         }
        },
        "title": {
         "text": "Twitter Engagement"
        },
        "xaxis": {
         "anchor": "y",
         "domain": [
          0,
          0.7363
         ],
         "title": {
          "text": "Retweets"
         }
        },
        "xaxis2": {
         "anchor": "y2",
         "domain": [
          0.7413,
          1
         ],
         "matches": "x2",
         "showgrid": true,
         "showline": false,
         "showticklabels": false,
         "ticks": ""
        },
        "xaxis3": {
         "anchor": "y3",
         "domain": [
          0,
          0.7363
         ],
         "matches": "x",
         "showgrid": true,
         "showticklabels": false
        },
        "xaxis4": {
         "anchor": "y4",
         "domain": [
          0.7413,
          1
         ],
         "matches": "x2",
         "showgrid": true,
         "showline": false,
         "showticklabels": false,
         "ticks": ""
        },
        "yaxis": {
         "anchor": "x",
         "domain": [
          0,
          0.7326
         ],
         "title": {
          "text": "Likes"
         }
        },
        "yaxis2": {
         "anchor": "x2",
         "domain": [
          0,
          0.7326
         ],
         "matches": "y",
         "showgrid": true,
         "showticklabels": false
        },
        "yaxis3": {
         "anchor": "x3",
         "domain": [
          0.7426,
          1
         ],
         "matches": "y3",
         "showgrid": true,
         "showline": false,
         "showticklabels": false,
         "ticks": ""
        },
        "yaxis4": {
         "anchor": "x4",
         "domain": [
          0.7426,
          1
         ],
         "matches": "y3",
         "showgrid": true,
         "showline": false,
         "showticklabels": false,
         "ticks": ""
        }
       }
      },
      "text/html": [
       "<div>\n",
       "        \n",
       "        \n",
       "            <div id=\"d80a6fd4-0604-46e1-b4d1-462295a721f4\" class=\"plotly-graph-div\" style=\"height:525px; width:100%;\"></div>\n",
       "            <script type=\"text/javascript\">\n",
       "                require([\"plotly\"], function(Plotly) {\n",
       "                    window.PLOTLYENV=window.PLOTLYENV || {};\n",
       "                    \n",
       "                if (document.getElementById(\"d80a6fd4-0604-46e1-b4d1-462295a721f4\")) {\n",
       "                    Plotly.newPlot(\n",
       "                        'd80a6fd4-0604-46e1-b4d1-462295a721f4',\n",
       "                        [{\"legendgroup\": \"Negative\", \"marker\": {\"color\": \"red\", \"symbol\": \"circle\"}, \"mode\": \"markers\", \"name\": \"Negative\", \"showlegend\": true, \"type\": \"scatter\", \"x\": [55, 97, 116, 73, 85, 73, 101, 141, 66, 65, 116, 293, 220, 61, 479, 195, 483, 179, 54, 40, 24, 72, 27, 69, 70, 179, 182, 65, 187, 136, 80, 58, 102, 241, 99, 108, 435, 49, 84, 22], \"xaxis\": \"x\", \"y\": [156, 269, 293, 190, 205, 235, 210, 348, 231, 201, 224, 554, 456, 175, 717, 1210, 1562, 843, 201, 160, 91, 264, 0, 222, 175, 606, 1028, 245, 409, 337, 342, 257, 234, 845, 248, 282, 1018, 198, 218, 62], \"yaxis\": \"y\"}, {\"alignmentgroup\": \"True\", \"bingroup\": \"x\", \"legendgroup\": \"Negative\", \"marker\": {\"color\": \"red\"}, \"name\": \"Negative\", \"offsetgroup\": \"Negative\", \"opacity\": 0.5, \"showlegend\": false, \"type\": \"histogram\", \"x\": [55, 97, 116, 73, 85, 73, 101, 141, 66, 65, 116, 293, 220, 61, 479, 195, 483, 179, 54, 40, 24, 72, 27, 69, 70, 179, 182, 65, 187, 136, 80, 58, 102, 241, 99, 108, 435, 49, 84, 22], \"xaxis\": \"x3\", \"yaxis\": \"y3\"}, {\"alignmentgroup\": \"True\", \"bingroup\": \"y\", \"legendgroup\": \"Negative\", \"marker\": {\"color\": \"red\"}, \"name\": \"Negative\", \"offsetgroup\": \"Negative\", \"opacity\": 0.5, \"showlegend\": false, \"type\": \"histogram\", \"xaxis\": \"x2\", \"y\": [156, 269, 293, 190, 205, 235, 210, 348, 231, 201, 224, 554, 456, 175, 717, 1210, 1562, 843, 201, 160, 91, 264, 0, 222, 175, 606, 1028, 245, 409, 337, 342, 257, 234, 845, 248, 282, 1018, 198, 218, 62], \"yaxis\": \"y2\"}, {\"legendgroup\": \"Positive\", \"marker\": {\"color\": \"green\", \"symbol\": \"circle\"}, \"mode\": \"markers\", \"name\": \"Positive\", \"showlegend\": true, \"type\": \"scatter\", \"x\": [381, 33, 89, 125, 61, 318, 65, 84, 87, 268, 41, 145, 100, 63, 77, 51, 54, 185, 234, 255, 202, 48, 115, 46, 30, 115, 38, 159, 115, 42, 520, 81, 42, 91, 42, 92, 240, 105, 742, 379, 48, 62, 65, 64, 48, 63, 182, 87, 71, 108, 98, 60, 452, 47, 71, 43, 79, 435, 401, 178, 197, 3390, 230, 114, 75, 374, 91, 401, 103, 112, 88, 54, 43, 88, 111, 246, 68, 78, 65, 147, 275, 32, 99, 254, 188, 46, 199, 129, 40, 72, 97, 0], \"xaxis\": \"x\", \"y\": [824, 149, 193, 0, 208, 1266, 189, 190, 270, 456, 116, 277, 251, 200, 168, 203, 234, 616, 451, 613, 579, 158, 376, 182, 91, 303, 163, 373, 421, 202, 2976, 184, 0, 278, 156, 377, 511, 0, 0, 1830, 156, 284, 317, 281, 270, 296, 416, 210, 275, 351, 280, 133, 1267, 148, 267, 141, 180, 741, 1742, 638, 631, 9178, 450, 274, 297, 1527, 239, 2423, 322, 384, 210, 310, 0, 316, 508, 462, 135, 226, 204, 669, 850, 113, 354, 365, 826, 263, 668, 324, 149, 190, 271, 0], \"yaxis\": \"y\"}, {\"alignmentgroup\": \"True\", \"bingroup\": \"x\", \"legendgroup\": \"Positive\", \"marker\": {\"color\": \"green\"}, \"name\": \"Positive\", \"offsetgroup\": \"Positive\", \"opacity\": 0.5, \"showlegend\": false, \"type\": \"histogram\", \"x\": [381, 33, 89, 125, 61, 318, 65, 84, 87, 268, 41, 145, 100, 63, 77, 51, 54, 185, 234, 255, 202, 48, 115, 46, 30, 115, 38, 159, 115, 42, 520, 81, 42, 91, 42, 92, 240, 105, 742, 379, 48, 62, 65, 64, 48, 63, 182, 87, 71, 108, 98, 60, 452, 47, 71, 43, 79, 435, 401, 178, 197, 3390, 230, 114, 75, 374, 91, 401, 103, 112, 88, 54, 43, 88, 111, 246, 68, 78, 65, 147, 275, 32, 99, 254, 188, 46, 199, 129, 40, 72, 97, 0], \"xaxis\": \"x3\", \"yaxis\": \"y3\"}, {\"alignmentgroup\": \"True\", \"bingroup\": \"y\", \"legendgroup\": \"Positive\", \"marker\": {\"color\": \"green\"}, \"name\": \"Positive\", \"offsetgroup\": \"Positive\", \"opacity\": 0.5, \"showlegend\": false, \"type\": \"histogram\", \"xaxis\": \"x2\", \"y\": [824, 149, 193, 0, 208, 1266, 189, 190, 270, 456, 116, 277, 251, 200, 168, 203, 234, 616, 451, 613, 579, 158, 376, 182, 91, 303, 163, 373, 421, 202, 2976, 184, 0, 278, 156, 377, 511, 0, 0, 1830, 156, 284, 317, 281, 270, 296, 416, 210, 275, 351, 280, 133, 1267, 148, 267, 141, 180, 741, 1742, 638, 631, 9178, 450, 274, 297, 1527, 239, 2423, 322, 384, 210, 310, 0, 316, 508, 462, 135, 226, 204, 669, 850, 113, 354, 365, 826, 263, 668, 324, 149, 190, 271, 0], \"yaxis\": \"y2\"}, {\"legendgroup\": \"Nuetral\", \"marker\": {\"color\": \"blue\", \"symbol\": \"circle\"}, \"mode\": \"markers\", \"name\": \"Nuetral\", \"showlegend\": true, \"type\": \"scatter\", \"x\": [49, 73, 259, 27, 116, 68, 728, 31, 121, 768, 50, 44, 154, 454, 98, 88, 273, 294, 80, 233, 285, 218, 115, 223, 59, 24, 41, 101, 33, 34, 65, 38, 100, 47, 38, 158, 42, 77, 178, 128, 593, 30, 68, 70, 206, 91, 84, 137, 88, 811, 136, 67, 81, 73, 55, 56, 67, 425, 167, 37, 205, 92, 150, 78, 122, 80, 204, 26], \"xaxis\": \"x\", \"y\": [247, 267, 549, 115, 289, 349, 1848, 96, 723, 4432, 140, 175, 1137, 1642, 374, 245, 3214, 637, 207, 870, 1691, 955, 279, 646, 164, 102, 157, 179, 117, 112, 238, 130, 407, 176, 119, 508, 173, 234, 783, 245, 1444, 106, 200, 248, 869, 237, 316, 715, 262, 4981, 278, 182, 206, 206, 225, 172, 164, 1839, 729, 133, 418, 0, 457, 233, 0, 209, 729, 93], \"yaxis\": \"y\"}, {\"alignmentgroup\": \"True\", \"bingroup\": \"x\", \"legendgroup\": \"Nuetral\", \"marker\": {\"color\": \"blue\"}, \"name\": \"Nuetral\", \"offsetgroup\": \"Nuetral\", \"opacity\": 0.5, \"showlegend\": false, \"type\": \"histogram\", \"x\": [49, 73, 259, 27, 116, 68, 728, 31, 121, 768, 50, 44, 154, 454, 98, 88, 273, 294, 80, 233, 285, 218, 115, 223, 59, 24, 41, 101, 33, 34, 65, 38, 100, 47, 38, 158, 42, 77, 178, 128, 593, 30, 68, 70, 206, 91, 84, 137, 88, 811, 136, 67, 81, 73, 55, 56, 67, 425, 167, 37, 205, 92, 150, 78, 122, 80, 204, 26], \"xaxis\": \"x3\", \"yaxis\": \"y3\"}, {\"alignmentgroup\": \"True\", \"bingroup\": \"y\", \"legendgroup\": \"Nuetral\", \"marker\": {\"color\": \"blue\"}, \"name\": \"Nuetral\", \"offsetgroup\": \"Nuetral\", \"opacity\": 0.5, \"showlegend\": false, \"type\": \"histogram\", \"xaxis\": \"x2\", \"y\": [247, 267, 549, 115, 289, 349, 1848, 96, 723, 4432, 140, 175, 1137, 1642, 374, 245, 3214, 637, 207, 870, 1691, 955, 279, 646, 164, 102, 157, 179, 117, 112, 238, 130, 407, 176, 119, 508, 173, 234, 783, 245, 1444, 106, 200, 248, 869, 237, 316, 715, 262, 4981, 278, 182, 206, 206, 225, 172, 164, 1839, 729, 133, 418, 0, 457, 233, 0, 209, 729, 93], \"yaxis\": \"y2\"}],\n",
       "                        {\"barmode\": \"overlay\", \"legend\": {\"title\": {\"text\": \"Sentiment\"}, \"tracegroupgap\": 0, \"x\": 0.8, \"y\": 1}, \"template\": {\"data\": {\"bar\": [{\"error_x\": {\"color\": \"#f2f5fa\"}, \"error_y\": {\"color\": \"#f2f5fa\"}, \"marker\": {\"line\": {\"color\": \"rgb(17,17,17)\", \"width\": 0.5}}, \"type\": \"bar\"}], \"barpolar\": [{\"marker\": {\"line\": {\"color\": \"rgb(17,17,17)\", \"width\": 0.5}}, \"type\": \"barpolar\"}], \"carpet\": [{\"aaxis\": {\"endlinecolor\": \"#A2B1C6\", \"gridcolor\": \"#506784\", \"linecolor\": \"#506784\", \"minorgridcolor\": \"#506784\", \"startlinecolor\": \"#A2B1C6\"}, \"baxis\": {\"endlinecolor\": \"#A2B1C6\", \"gridcolor\": \"#506784\", \"linecolor\": \"#506784\", \"minorgridcolor\": \"#506784\", \"startlinecolor\": \"#A2B1C6\"}, \"type\": \"carpet\"}], \"choropleth\": [{\"colorbar\": {\"outlinewidth\": 0, \"ticks\": \"\"}, \"type\": \"choropleth\"}], \"contour\": [{\"colorbar\": {\"outlinewidth\": 0, \"ticks\": \"\"}, \"colorscale\": [[0.0, \"#0d0887\"], [0.1111111111111111, \"#46039f\"], [0.2222222222222222, \"#7201a8\"], [0.3333333333333333, \"#9c179e\"], [0.4444444444444444, \"#bd3786\"], [0.5555555555555556, \"#d8576b\"], [0.6666666666666666, \"#ed7953\"], [0.7777777777777778, \"#fb9f3a\"], [0.8888888888888888, \"#fdca26\"], [1.0, \"#f0f921\"]], \"type\": \"contour\"}], \"contourcarpet\": [{\"colorbar\": {\"outlinewidth\": 0, \"ticks\": \"\"}, \"type\": \"contourcarpet\"}], \"heatmap\": [{\"colorbar\": {\"outlinewidth\": 0, \"ticks\": \"\"}, \"colorscale\": [[0.0, \"#0d0887\"], [0.1111111111111111, \"#46039f\"], [0.2222222222222222, \"#7201a8\"], [0.3333333333333333, \"#9c179e\"], [0.4444444444444444, \"#bd3786\"], [0.5555555555555556, \"#d8576b\"], [0.6666666666666666, \"#ed7953\"], [0.7777777777777778, \"#fb9f3a\"], [0.8888888888888888, \"#fdca26\"], [1.0, \"#f0f921\"]], \"type\": \"heatmap\"}], \"heatmapgl\": [{\"colorbar\": {\"outlinewidth\": 0, \"ticks\": \"\"}, \"colorscale\": [[0.0, \"#0d0887\"], [0.1111111111111111, \"#46039f\"], [0.2222222222222222, \"#7201a8\"], [0.3333333333333333, \"#9c179e\"], [0.4444444444444444, \"#bd3786\"], [0.5555555555555556, \"#d8576b\"], [0.6666666666666666, \"#ed7953\"], [0.7777777777777778, \"#fb9f3a\"], [0.8888888888888888, \"#fdca26\"], [1.0, \"#f0f921\"]], \"type\": \"heatmapgl\"}], \"histogram\": [{\"marker\": {\"colorbar\": {\"outlinewidth\": 0, \"ticks\": \"\"}}, \"type\": \"histogram\"}], \"histogram2d\": [{\"colorbar\": {\"outlinewidth\": 0, \"ticks\": \"\"}, \"colorscale\": [[0.0, \"#0d0887\"], [0.1111111111111111, \"#46039f\"], [0.2222222222222222, \"#7201a8\"], [0.3333333333333333, \"#9c179e\"], [0.4444444444444444, \"#bd3786\"], [0.5555555555555556, \"#d8576b\"], [0.6666666666666666, \"#ed7953\"], [0.7777777777777778, \"#fb9f3a\"], [0.8888888888888888, \"#fdca26\"], [1.0, \"#f0f921\"]], \"type\": \"histogram2d\"}], \"histogram2dcontour\": [{\"colorbar\": {\"outlinewidth\": 0, \"ticks\": \"\"}, \"colorscale\": [[0.0, \"#0d0887\"], [0.1111111111111111, \"#46039f\"], [0.2222222222222222, \"#7201a8\"], [0.3333333333333333, \"#9c179e\"], [0.4444444444444444, \"#bd3786\"], [0.5555555555555556, \"#d8576b\"], [0.6666666666666666, \"#ed7953\"], [0.7777777777777778, \"#fb9f3a\"], [0.8888888888888888, \"#fdca26\"], [1.0, \"#f0f921\"]], \"type\": \"histogram2dcontour\"}], \"mesh3d\": [{\"colorbar\": {\"outlinewidth\": 0, \"ticks\": \"\"}, \"type\": \"mesh3d\"}], \"parcoords\": [{\"line\": {\"colorbar\": {\"outlinewidth\": 0, \"ticks\": \"\"}}, \"type\": \"parcoords\"}], \"pie\": [{\"automargin\": true, \"type\": \"pie\"}], \"scatter\": [{\"marker\": {\"line\": {\"color\": \"#283442\"}}, \"type\": \"scatter\"}], \"scatter3d\": [{\"line\": {\"colorbar\": {\"outlinewidth\": 0, \"ticks\": \"\"}}, \"marker\": {\"colorbar\": {\"outlinewidth\": 0, \"ticks\": \"\"}}, \"type\": \"scatter3d\"}], \"scattercarpet\": [{\"marker\": {\"colorbar\": {\"outlinewidth\": 0, \"ticks\": \"\"}}, \"type\": \"scattercarpet\"}], \"scattergeo\": [{\"marker\": {\"colorbar\": {\"outlinewidth\": 0, \"ticks\": \"\"}}, \"type\": \"scattergeo\"}], \"scattergl\": [{\"marker\": {\"line\": {\"color\": \"#283442\"}}, \"type\": \"scattergl\"}], \"scattermapbox\": [{\"marker\": {\"colorbar\": {\"outlinewidth\": 0, \"ticks\": \"\"}}, \"type\": \"scattermapbox\"}], \"scatterpolar\": [{\"marker\": {\"colorbar\": {\"outlinewidth\": 0, \"ticks\": \"\"}}, \"type\": \"scatterpolar\"}], \"scatterpolargl\": [{\"marker\": {\"colorbar\": {\"outlinewidth\": 0, \"ticks\": \"\"}}, \"type\": \"scatterpolargl\"}], \"scatterternary\": [{\"marker\": {\"colorbar\": {\"outlinewidth\": 0, \"ticks\": \"\"}}, \"type\": \"scatterternary\"}], \"surface\": [{\"colorbar\": {\"outlinewidth\": 0, \"ticks\": \"\"}, \"colorscale\": [[0.0, \"#0d0887\"], [0.1111111111111111, \"#46039f\"], [0.2222222222222222, \"#7201a8\"], [0.3333333333333333, \"#9c179e\"], [0.4444444444444444, \"#bd3786\"], [0.5555555555555556, \"#d8576b\"], [0.6666666666666666, \"#ed7953\"], [0.7777777777777778, \"#fb9f3a\"], [0.8888888888888888, \"#fdca26\"], [1.0, \"#f0f921\"]], \"type\": \"surface\"}], \"table\": [{\"cells\": {\"fill\": {\"color\": \"#506784\"}, \"line\": {\"color\": \"rgb(17,17,17)\"}}, \"header\": {\"fill\": {\"color\": \"#2a3f5f\"}, \"line\": {\"color\": \"rgb(17,17,17)\"}}, \"type\": \"table\"}]}, \"layout\": {\"annotationdefaults\": {\"arrowcolor\": \"#f2f5fa\", \"arrowhead\": 0, \"arrowwidth\": 1}, \"coloraxis\": {\"colorbar\": {\"outlinewidth\": 0, \"ticks\": \"\"}}, \"colorscale\": {\"diverging\": [[0, \"#8e0152\"], [0.1, \"#c51b7d\"], [0.2, \"#de77ae\"], [0.3, \"#f1b6da\"], [0.4, \"#fde0ef\"], [0.5, \"#f7f7f7\"], [0.6, \"#e6f5d0\"], [0.7, \"#b8e186\"], [0.8, \"#7fbc41\"], [0.9, \"#4d9221\"], [1, \"#276419\"]], \"sequential\": [[0.0, \"#0d0887\"], [0.1111111111111111, \"#46039f\"], [0.2222222222222222, \"#7201a8\"], [0.3333333333333333, \"#9c179e\"], [0.4444444444444444, \"#bd3786\"], [0.5555555555555556, \"#d8576b\"], [0.6666666666666666, \"#ed7953\"], [0.7777777777777778, \"#fb9f3a\"], [0.8888888888888888, \"#fdca26\"], [1.0, \"#f0f921\"]], \"sequentialminus\": [[0.0, \"#0d0887\"], [0.1111111111111111, \"#46039f\"], [0.2222222222222222, \"#7201a8\"], [0.3333333333333333, \"#9c179e\"], [0.4444444444444444, \"#bd3786\"], [0.5555555555555556, \"#d8576b\"], [0.6666666666666666, \"#ed7953\"], [0.7777777777777778, \"#fb9f3a\"], [0.8888888888888888, \"#fdca26\"], [1.0, \"#f0f921\"]]}, \"colorway\": [\"#636efa\", \"#EF553B\", \"#00cc96\", \"#ab63fa\", \"#FFA15A\", \"#19d3f3\", \"#FF6692\", \"#B6E880\", \"#FF97FF\", \"#FECB52\"], \"font\": {\"color\": \"#f2f5fa\"}, \"geo\": {\"bgcolor\": \"rgb(17,17,17)\", \"lakecolor\": \"rgb(17,17,17)\", \"landcolor\": \"rgb(17,17,17)\", \"showlakes\": true, \"showland\": true, \"subunitcolor\": \"#506784\"}, \"hoverlabel\": {\"align\": \"left\"}, \"hovermode\": \"closest\", \"mapbox\": {\"style\": \"dark\"}, \"paper_bgcolor\": \"rgb(17,17,17)\", \"plot_bgcolor\": \"rgb(17,17,17)\", \"polar\": {\"angularaxis\": {\"gridcolor\": \"#506784\", \"linecolor\": \"#506784\", \"ticks\": \"\"}, \"bgcolor\": \"rgb(17,17,17)\", \"radialaxis\": {\"gridcolor\": \"#506784\", \"linecolor\": \"#506784\", \"ticks\": \"\"}}, \"scene\": {\"xaxis\": {\"backgroundcolor\": \"rgb(17,17,17)\", \"gridcolor\": \"#506784\", \"gridwidth\": 2, \"linecolor\": \"#506784\", \"showbackground\": true, \"ticks\": \"\", \"zerolinecolor\": \"#C8D4E3\"}, \"yaxis\": {\"backgroundcolor\": \"rgb(17,17,17)\", \"gridcolor\": \"#506784\", \"gridwidth\": 2, \"linecolor\": \"#506784\", \"showbackground\": true, \"ticks\": \"\", \"zerolinecolor\": \"#C8D4E3\"}, \"zaxis\": {\"backgroundcolor\": \"rgb(17,17,17)\", \"gridcolor\": \"#506784\", \"gridwidth\": 2, \"linecolor\": \"#506784\", \"showbackground\": true, \"ticks\": \"\", \"zerolinecolor\": \"#C8D4E3\"}}, \"shapedefaults\": {\"line\": {\"color\": \"#f2f5fa\"}}, \"sliderdefaults\": {\"bgcolor\": \"#C8D4E3\", \"bordercolor\": \"rgb(17,17,17)\", \"borderwidth\": 1, \"tickwidth\": 0}, \"ternary\": {\"aaxis\": {\"gridcolor\": \"#506784\", \"linecolor\": \"#506784\", \"ticks\": \"\"}, \"baxis\": {\"gridcolor\": \"#506784\", \"linecolor\": \"#506784\", \"ticks\": \"\"}, \"bgcolor\": \"rgb(17,17,17)\", \"caxis\": {\"gridcolor\": \"#506784\", \"linecolor\": \"#506784\", \"ticks\": \"\"}}, \"title\": {\"x\": 0.05}, \"updatemenudefaults\": {\"bgcolor\": \"#506784\", \"borderwidth\": 0}, \"xaxis\": {\"automargin\": true, \"gridcolor\": \"#283442\", \"linecolor\": \"#506784\", \"ticks\": \"\", \"title\": {\"standoff\": 15}, \"zerolinecolor\": \"#283442\", \"zerolinewidth\": 2}, \"yaxis\": {\"automargin\": true, \"gridcolor\": \"#283442\", \"linecolor\": \"#506784\", \"ticks\": \"\", \"title\": {\"standoff\": 15}, \"zerolinecolor\": \"#283442\", \"zerolinewidth\": 2}}}, \"title\": {\"text\": \"Twitter Engagement\"}, \"xaxis\": {\"anchor\": \"y\", \"domain\": [0.0, 0.7363], \"title\": {\"text\": \"Retweets\"}}, \"xaxis2\": {\"anchor\": \"y2\", \"domain\": [0.7413, 1.0], \"matches\": \"x2\", \"showgrid\": true, \"showline\": false, \"showticklabels\": false, \"ticks\": \"\"}, \"xaxis3\": {\"anchor\": \"y3\", \"domain\": [0.0, 0.7363], \"matches\": \"x\", \"showgrid\": true, \"showticklabels\": false}, \"xaxis4\": {\"anchor\": \"y4\", \"domain\": [0.7413, 1.0], \"matches\": \"x2\", \"showgrid\": true, \"showline\": false, \"showticklabels\": false, \"ticks\": \"\"}, \"yaxis\": {\"anchor\": \"x\", \"domain\": [0.0, 0.7326], \"title\": {\"text\": \"Likes\"}}, \"yaxis2\": {\"anchor\": \"x2\", \"domain\": [0.0, 0.7326], \"matches\": \"y\", \"showgrid\": true, \"showticklabels\": false}, \"yaxis3\": {\"anchor\": \"x3\", \"domain\": [0.7426, 1.0], \"matches\": \"y3\", \"showgrid\": true, \"showline\": false, \"showticklabels\": false, \"ticks\": \"\"}, \"yaxis4\": {\"anchor\": \"x4\", \"domain\": [0.7426, 1.0], \"matches\": \"y3\", \"showgrid\": true, \"showline\": false, \"showticklabels\": false, \"ticks\": \"\"}},\n",
       "                        {\"responsive\": true}\n",
       "                    ).then(function(){\n",
       "                            \n",
       "var gd = document.getElementById('d80a6fd4-0604-46e1-b4d1-462295a721f4');\n",
       "var x = new MutationObserver(function (mutations, observer) {{\n",
       "        var display = window.getComputedStyle(gd).display;\n",
       "        if (!display || display === 'none') {{\n",
       "            console.log([gd, 'removed!']);\n",
       "            Plotly.purge(gd);\n",
       "            observer.disconnect();\n",
       "        }}\n",
       "}});\n",
       "\n",
       "// Listen for the removal of the full notebook cells\n",
       "var notebookContainer = gd.closest('#notebook-container');\n",
       "if (notebookContainer) {{\n",
       "    x.observe(notebookContainer, {childList: true});\n",
       "}}\n",
       "\n",
       "// Listen for the clearing of the current output cell\n",
       "var outputEl = gd.closest('.output');\n",
       "if (outputEl) {{\n",
       "    x.observe(outputEl, {childList: true});\n",
       "}}\n",
       "\n",
       "                        })\n",
       "                };\n",
       "                });\n",
       "            </script>\n",
       "        </div>"
      ]
     },
     "metadata": {},
     "output_type": "display_data"
    }
   ],
   "source": [
    "import plotly.express as px\n",
    "import  pandas as pd\n",
    "import plotly.subplots as sb\n",
    "\n",
    "## Reading data,droppinng all NaN values, datetime conversion, sort by datetime\n",
    "data = pd.read_csv(\"practice_data.csv\") \n",
    "data = data.dropna(axis =1 ,how='any')\n",
    "data['date'] = pd.to_datetime(data['date'])\n",
    "data = data.sort_values(by = 'date', ascending=True)\n",
    "\n",
    "\n",
    "## change column names on table  \n",
    "data = data.rename(columns ={\"tweets\": \"Tweets\", \"likes\":\"Likes\", \"retweets\":\"Retweets\",\"date\":\"Date\", 'sentiment':\"new_sent\",\"pnn\":\"Sentiment\"})\n",
    "\n",
    "## 1st figure\n",
    "fig0 = px.scatter(data, x = 'Retweets', y = 'Likes', color = 'Sentiment', \n",
    "           title = 'Twitter Engagement'  , \n",
    "           template = 'plotly_dark',color_continuous_scale=[\"red\", \"green\", \"blue\"],\n",
    "           marginal_x = 'histogram', marginal_y = 'histogram',\n",
    "           color_discrete_sequence=['red', 'green', 'blue'])\n",
    "\n",
    "## formatting\n",
    "fig0.update_layout(legend=dict(x=.8, y=1))\n",
    "fig0.update_traces(hovertemplate=None)\n"
   ]
  },
  {
   "cell_type": "markdown",
   "metadata": {},
   "source": [
    "###### Note: Sentiment found using Textblob, a library for processing textual data."
   ]
  },
  {
   "cell_type": "code",
   "execution_count": 26,
   "metadata": {},
   "outputs": [
    {
     "data": {
      "application/vnd.plotly.v1+json": {
       "config": {
        "plotlyServerURL": "https://plot.ly"
       },
       "data": [
        {
         "hoverinfo": "name+x+y",
         "marker": {
          "color": "goldenrod",
          "size": 5
         },
         "mode": "markers+lines",
         "name": "Likes",
         "type": "scatter",
         "x": [
          "2020-05-20T09:13:46",
          "2020-05-20T09:29:08",
          "2020-05-20T09:35:03",
          "2020-05-20T09:44:06",
          "2020-05-20T10:08:02",
          "2020-05-20T10:25:55",
          "2020-05-20T10:33:17",
          "2020-05-20T10:51:37",
          "2020-05-20T10:56:24",
          "2020-05-20T11:03:05",
          "2020-05-20T11:15:05",
          "2020-05-20T11:30:05",
          "2020-05-20T11:45:05",
          "2020-05-20T12:00:01",
          "2020-05-20T12:15:04",
          "2020-05-20T12:30:06",
          "2020-05-20T12:45:00",
          "2020-05-20T13:00:15",
          "2020-05-20T13:10:06",
          "2020-05-20T13:20:06",
          "2020-05-20T13:30:12",
          "2020-05-20T13:40:06",
          "2020-05-20T13:50:07",
          "2020-05-20T14:00:07",
          "2020-05-20T14:10:03",
          "2020-05-20T14:20:03",
          "2020-05-20T14:30:06",
          "2020-05-20T14:40:06",
          "2020-05-20T14:50:06",
          "2020-05-20T15:00:17",
          "2020-05-20T15:10:06",
          "2020-05-20T15:20:05",
          "2020-05-20T15:30:07",
          "2020-05-20T15:40:08",
          "2020-05-20T15:50:09",
          "2020-05-20T16:00:08",
          "2020-05-20T16:10:06",
          "2020-05-20T16:30:07",
          "2020-05-20T16:40:04",
          "2020-05-20T16:50:03",
          "2020-05-20T17:00:12",
          "2020-05-20T17:10:02",
          "2020-05-20T17:20:06",
          "2020-05-20T17:30:09",
          "2020-05-20T17:40:03",
          "2020-05-20T17:51:02",
          "2020-05-20T18:00:03",
          "2020-05-20T18:10:09",
          "2020-05-20T18:20:05",
          "2020-05-20T18:30:05",
          "2020-05-20T18:40:10",
          "2020-05-20T18:50:03",
          "2020-05-20T19:01:07",
          "2020-05-20T19:19:07",
          "2020-05-20T19:40:12",
          "2020-05-20T19:56:28",
          "2020-05-20T20:11:35",
          "2020-05-20T20:26:49",
          "2020-05-20T20:26:51",
          "2020-05-20T20:27:28",
          "2020-05-20T21:14:44",
          "2020-05-20T21:29:58",
          "2020-05-20T21:45:47",
          "2020-05-20T21:50:38",
          "2020-05-20T22:07:53",
          "2020-05-20T22:23:00",
          "2020-05-20T22:38:10",
          "2020-05-20T22:51:07",
          "2020-05-20T23:00:47",
          "2020-05-20T23:18:55",
          "2020-05-20T23:37:20",
          "2020-05-20T23:55:06",
          "2020-05-21T00:04:53",
          "2020-05-21T00:16:26",
          "2020-05-21T00:18:40",
          "2020-05-21T00:30:11",
          "2020-05-21T00:43:33",
          "2020-05-21T00:57:02",
          "2020-05-21T01:08:04",
          "2020-05-21T01:17:58",
          "2020-05-21T01:25:42",
          "2020-05-21T01:34:44",
          "2020-05-21T01:35:27",
          "2020-05-21T01:35:48",
          "2020-05-21T01:36:40",
          "2020-05-21T01:37:04",
          "2020-05-21T01:39:50",
          "2020-05-21T01:43:23",
          "2020-05-21T01:46:40",
          "2020-05-21T01:48:51",
          "2020-05-21T01:49:47",
          "2020-05-21T01:51:00",
          "2020-05-21T01:52:12",
          "2020-05-21T01:55:52",
          "2020-05-21T01:56:18",
          "2020-05-21T01:59:20",
          "2020-05-21T02:01:00",
          "2020-05-21T02:02:03",
          "2020-05-21T02:06:07",
          "2020-05-21T02:11:00",
          "2020-05-21T02:11:06",
          "2020-05-21T02:12:02",
          "2020-05-21T02:19:02",
          "2020-05-21T02:21:00",
          "2020-05-21T02:29:54",
          "2020-05-21T02:31:00",
          "2020-05-21T02:35:58",
          "2020-05-21T02:40:31",
          "2020-05-21T02:41:00",
          "2020-05-21T02:51:27",
          "2020-05-21T03:01:00",
          "2020-05-21T03:01:07",
          "2020-05-21T03:03:06",
          "2020-05-21T03:04:05",
          "2020-05-21T03:05:01",
          "2020-05-21T03:08:05",
          "2020-05-21T03:08:06",
          "2020-05-21T03:09:06",
          "2020-05-21T03:11:00",
          "2020-05-21T03:12:06",
          "2020-05-21T03:12:07",
          "2020-05-21T03:15:05",
          "2020-05-21T03:15:05",
          "2020-05-21T03:16:04",
          "2020-05-21T03:19:02",
          "2020-05-21T03:20:04",
          "2020-05-21T03:20:04",
          "2020-05-21T03:21:04",
          "2020-05-21T03:35:16",
          "2020-05-21T03:53:34",
          "2020-05-21T04:01:09",
          "2020-05-21T04:11:06",
          "2020-05-21T04:25:02",
          "2020-05-21T04:35:56",
          "2020-05-21T04:45:01",
          "2020-05-21T04:57:37",
          "2020-05-21T05:06:47",
          "2020-05-21T05:20:02",
          "2020-05-21T05:35:07",
          "2020-05-21T05:50:02",
          "2020-05-21T06:00:58",
          "2020-05-21T06:10:12",
          "2020-05-21T06:25:03",
          "2020-05-21T06:36:14",
          "2020-05-21T06:40:05",
          "2020-05-21T06:55:07",
          "2020-05-21T07:10:07",
          "2020-05-21T07:25:06",
          "2020-05-21T07:50:02",
          "2020-05-21T08:03:43",
          "2020-05-21T08:31:58",
          "2020-05-21T08:50:10",
          "2020-05-21T09:15:10",
          "2020-05-21T09:25:03",
          "2020-05-21T09:57:54",
          "2020-05-21T09:59:05",
          "2020-05-21T10:20:03",
          "2020-05-21T10:37:45",
          "2020-05-21T10:45:09",
          "2020-05-21T11:00:13",
          "2020-05-21T11:15:05",
          "2020-05-21T11:30:06",
          "2020-05-21T11:45:04",
          "2020-05-21T12:00:08",
          "2020-05-21T12:13:48",
          "2020-05-21T12:15:06",
          "2020-05-21T12:30:09",
          "2020-05-21T12:45:10",
          "2020-05-21T12:50:02",
          "2020-05-21T13:00:04",
          "2020-05-21T13:16:34",
          "2020-05-21T13:17:17",
          "2020-05-21T13:26:51",
          "2020-05-21T13:40:07",
          "2020-05-21T13:51:07",
          "2020-05-21T14:02:33",
          "2020-05-21T14:10:08",
          "2020-05-21T14:20:00",
          "2020-05-21T14:30:06",
          "2020-05-21T14:40:07",
          "2020-05-21T14:42:23",
          "2020-05-21T14:50:07",
          "2020-05-21T15:00:07",
          "2020-05-21T15:10:05",
          "2020-05-21T15:20:01",
          "2020-05-21T15:30:03",
          "2020-05-21T15:40:48",
          "2020-05-21T15:52:13",
          "2020-05-21T16:00:07",
          "2020-05-21T16:10:04",
          "2020-05-21T16:20:09",
          "2020-05-21T16:30:07",
          "2020-05-21T16:39:34",
          "2020-05-21T16:40:09",
          "2020-05-21T16:50:06",
          "2020-05-21T17:00:19",
          "2020-05-21T17:10:06",
          "2020-05-21T17:20:05",
          "2020-05-21T17:44:48",
          "2020-05-21T17:50:01"
         ],
         "xaxis": "x",
         "y": [
          156,
          824,
          247,
          269,
          267,
          149,
          193,
          0,
          549,
          115,
          289,
          349,
          293,
          208,
          1848,
          96,
          1266,
          189,
          190,
          270,
          723,
          4432,
          456,
          116,
          190,
          277,
          205,
          140,
          175,
          235,
          251,
          210,
          200,
          168,
          1137,
          203,
          234,
          348,
          231,
          616,
          1642,
          201,
          374,
          245,
          3214,
          224,
          637,
          207,
          870,
          1691,
          451,
          613,
          955,
          279,
          554,
          456,
          175,
          579,
          158,
          717,
          646,
          376,
          164,
          102,
          182,
          91,
          1210,
          1562,
          303,
          157,
          843,
          163,
          373,
          421,
          179,
          201,
          202,
          117,
          160,
          2976,
          184,
          0,
          91,
          112,
          264,
          278,
          156,
          377,
          511,
          0,
          238,
          130,
          0,
          407,
          0,
          1830,
          222,
          176,
          119,
          156,
          284,
          317,
          175,
          281,
          270,
          508,
          296,
          606,
          416,
          210,
          275,
          351,
          173,
          280,
          234,
          133,
          1267,
          148,
          783,
          267,
          141,
          245,
          180,
          1028,
          1444,
          106,
          200,
          248,
          869,
          741,
          237,
          316,
          715,
          1742,
          638,
          631,
          262,
          9178,
          450,
          245,
          274,
          4981,
          297,
          278,
          182,
          1527,
          409,
          337,
          206,
          239,
          2423,
          206,
          322,
          342,
          225,
          172,
          164,
          1839,
          384,
          210,
          310,
          257,
          729,
          234,
          0,
          133,
          316,
          508,
          462,
          135,
          418,
          0,
          845,
          226,
          204,
          457,
          669,
          850,
          113,
          233,
          0,
          209,
          354,
          248,
          365,
          282,
          826,
          1018,
          263,
          668,
          324,
          198,
          729,
          218,
          149,
          190,
          93,
          271,
          62,
          0
         ],
         "yaxis": "y"
        },
        {
         "hoverinfo": "name+x+y",
         "marker": {
          "color": "darkseagreen",
          "size": 5
         },
         "mode": "markers+lines",
         "name": "Retweets",
         "type": "scatter",
         "x": [
          "2020-05-20T09:13:46",
          "2020-05-20T09:29:08",
          "2020-05-20T09:35:03",
          "2020-05-20T09:44:06",
          "2020-05-20T10:08:02",
          "2020-05-20T10:25:55",
          "2020-05-20T10:33:17",
          "2020-05-20T10:51:37",
          "2020-05-20T10:56:24",
          "2020-05-20T11:03:05",
          "2020-05-20T11:15:05",
          "2020-05-20T11:30:05",
          "2020-05-20T11:45:05",
          "2020-05-20T12:00:01",
          "2020-05-20T12:15:04",
          "2020-05-20T12:30:06",
          "2020-05-20T12:45:00",
          "2020-05-20T13:00:15",
          "2020-05-20T13:10:06",
          "2020-05-20T13:20:06",
          "2020-05-20T13:30:12",
          "2020-05-20T13:40:06",
          "2020-05-20T13:50:07",
          "2020-05-20T14:00:07",
          "2020-05-20T14:10:03",
          "2020-05-20T14:20:03",
          "2020-05-20T14:30:06",
          "2020-05-20T14:40:06",
          "2020-05-20T14:50:06",
          "2020-05-20T15:00:17",
          "2020-05-20T15:10:06",
          "2020-05-20T15:20:05",
          "2020-05-20T15:30:07",
          "2020-05-20T15:40:08",
          "2020-05-20T15:50:09",
          "2020-05-20T16:00:08",
          "2020-05-20T16:10:06",
          "2020-05-20T16:30:07",
          "2020-05-20T16:40:04",
          "2020-05-20T16:50:03",
          "2020-05-20T17:00:12",
          "2020-05-20T17:10:02",
          "2020-05-20T17:20:06",
          "2020-05-20T17:30:09",
          "2020-05-20T17:40:03",
          "2020-05-20T17:51:02",
          "2020-05-20T18:00:03",
          "2020-05-20T18:10:09",
          "2020-05-20T18:20:05",
          "2020-05-20T18:30:05",
          "2020-05-20T18:40:10",
          "2020-05-20T18:50:03",
          "2020-05-20T19:01:07",
          "2020-05-20T19:19:07",
          "2020-05-20T19:40:12",
          "2020-05-20T19:56:28",
          "2020-05-20T20:11:35",
          "2020-05-20T20:26:49",
          "2020-05-20T20:26:51",
          "2020-05-20T20:27:28",
          "2020-05-20T21:14:44",
          "2020-05-20T21:29:58",
          "2020-05-20T21:45:47",
          "2020-05-20T21:50:38",
          "2020-05-20T22:07:53",
          "2020-05-20T22:23:00",
          "2020-05-20T22:38:10",
          "2020-05-20T22:51:07",
          "2020-05-20T23:00:47",
          "2020-05-20T23:18:55",
          "2020-05-20T23:37:20",
          "2020-05-20T23:55:06",
          "2020-05-21T00:04:53",
          "2020-05-21T00:16:26",
          "2020-05-21T00:18:40",
          "2020-05-21T00:30:11",
          "2020-05-21T00:43:33",
          "2020-05-21T00:57:02",
          "2020-05-21T01:08:04",
          "2020-05-21T01:17:58",
          "2020-05-21T01:25:42",
          "2020-05-21T01:34:44",
          "2020-05-21T01:35:27",
          "2020-05-21T01:35:48",
          "2020-05-21T01:36:40",
          "2020-05-21T01:37:04",
          "2020-05-21T01:39:50",
          "2020-05-21T01:43:23",
          "2020-05-21T01:46:40",
          "2020-05-21T01:48:51",
          "2020-05-21T01:49:47",
          "2020-05-21T01:51:00",
          "2020-05-21T01:52:12",
          "2020-05-21T01:55:52",
          "2020-05-21T01:56:18",
          "2020-05-21T01:59:20",
          "2020-05-21T02:01:00",
          "2020-05-21T02:02:03",
          "2020-05-21T02:06:07",
          "2020-05-21T02:11:00",
          "2020-05-21T02:11:06",
          "2020-05-21T02:12:02",
          "2020-05-21T02:19:02",
          "2020-05-21T02:21:00",
          "2020-05-21T02:29:54",
          "2020-05-21T02:31:00",
          "2020-05-21T02:35:58",
          "2020-05-21T02:40:31",
          "2020-05-21T02:41:00",
          "2020-05-21T02:51:27",
          "2020-05-21T03:01:00",
          "2020-05-21T03:01:07",
          "2020-05-21T03:03:06",
          "2020-05-21T03:04:05",
          "2020-05-21T03:05:01",
          "2020-05-21T03:08:05",
          "2020-05-21T03:08:06",
          "2020-05-21T03:09:06",
          "2020-05-21T03:11:00",
          "2020-05-21T03:12:06",
          "2020-05-21T03:12:07",
          "2020-05-21T03:15:05",
          "2020-05-21T03:15:05",
          "2020-05-21T03:16:04",
          "2020-05-21T03:19:02",
          "2020-05-21T03:20:04",
          "2020-05-21T03:20:04",
          "2020-05-21T03:21:04",
          "2020-05-21T03:35:16",
          "2020-05-21T03:53:34",
          "2020-05-21T04:01:09",
          "2020-05-21T04:11:06",
          "2020-05-21T04:25:02",
          "2020-05-21T04:35:56",
          "2020-05-21T04:45:01",
          "2020-05-21T04:57:37",
          "2020-05-21T05:06:47",
          "2020-05-21T05:20:02",
          "2020-05-21T05:35:07",
          "2020-05-21T05:50:02",
          "2020-05-21T06:00:58",
          "2020-05-21T06:10:12",
          "2020-05-21T06:25:03",
          "2020-05-21T06:36:14",
          "2020-05-21T06:40:05",
          "2020-05-21T06:55:07",
          "2020-05-21T07:10:07",
          "2020-05-21T07:25:06",
          "2020-05-21T07:50:02",
          "2020-05-21T08:03:43",
          "2020-05-21T08:31:58",
          "2020-05-21T08:50:10",
          "2020-05-21T09:15:10",
          "2020-05-21T09:25:03",
          "2020-05-21T09:57:54",
          "2020-05-21T09:59:05",
          "2020-05-21T10:20:03",
          "2020-05-21T10:37:45",
          "2020-05-21T10:45:09",
          "2020-05-21T11:00:13",
          "2020-05-21T11:15:05",
          "2020-05-21T11:30:06",
          "2020-05-21T11:45:04",
          "2020-05-21T12:00:08",
          "2020-05-21T12:13:48",
          "2020-05-21T12:15:06",
          "2020-05-21T12:30:09",
          "2020-05-21T12:45:10",
          "2020-05-21T12:50:02",
          "2020-05-21T13:00:04",
          "2020-05-21T13:16:34",
          "2020-05-21T13:17:17",
          "2020-05-21T13:26:51",
          "2020-05-21T13:40:07",
          "2020-05-21T13:51:07",
          "2020-05-21T14:02:33",
          "2020-05-21T14:10:08",
          "2020-05-21T14:20:00",
          "2020-05-21T14:30:06",
          "2020-05-21T14:40:07",
          "2020-05-21T14:42:23",
          "2020-05-21T14:50:07",
          "2020-05-21T15:00:07",
          "2020-05-21T15:10:05",
          "2020-05-21T15:20:01",
          "2020-05-21T15:30:03",
          "2020-05-21T15:40:48",
          "2020-05-21T15:52:13",
          "2020-05-21T16:00:07",
          "2020-05-21T16:10:04",
          "2020-05-21T16:20:09",
          "2020-05-21T16:30:07",
          "2020-05-21T16:39:34",
          "2020-05-21T16:40:09",
          "2020-05-21T16:50:06",
          "2020-05-21T17:00:19",
          "2020-05-21T17:10:06",
          "2020-05-21T17:20:05",
          "2020-05-21T17:44:48",
          "2020-05-21T17:50:01"
         ],
         "xaxis": "x2",
         "y": [
          55,
          381,
          49,
          97,
          73,
          33,
          89,
          125,
          259,
          27,
          116,
          68,
          116,
          61,
          728,
          31,
          318,
          65,
          84,
          87,
          121,
          768,
          268,
          41,
          73,
          145,
          85,
          50,
          44,
          73,
          100,
          101,
          63,
          77,
          154,
          51,
          54,
          141,
          66,
          185,
          454,
          65,
          98,
          88,
          273,
          116,
          294,
          80,
          233,
          285,
          234,
          255,
          218,
          115,
          293,
          220,
          61,
          202,
          48,
          479,
          223,
          115,
          59,
          24,
          46,
          30,
          195,
          483,
          115,
          41,
          179,
          38,
          159,
          115,
          101,
          54,
          42,
          33,
          40,
          520,
          81,
          42,
          24,
          34,
          72,
          91,
          42,
          92,
          240,
          105,
          65,
          38,
          27,
          100,
          742,
          379,
          69,
          47,
          38,
          48,
          62,
          65,
          70,
          64,
          48,
          158,
          63,
          179,
          182,
          87,
          71,
          108,
          42,
          98,
          77,
          60,
          452,
          47,
          178,
          71,
          43,
          128,
          79,
          182,
          593,
          30,
          68,
          70,
          206,
          435,
          91,
          84,
          137,
          401,
          178,
          197,
          88,
          3390,
          230,
          65,
          114,
          811,
          75,
          136,
          67,
          374,
          187,
          136,
          81,
          91,
          401,
          73,
          103,
          80,
          55,
          56,
          67,
          425,
          112,
          88,
          54,
          58,
          167,
          102,
          43,
          37,
          88,
          111,
          246,
          68,
          205,
          92,
          241,
          78,
          65,
          150,
          147,
          275,
          32,
          78,
          122,
          80,
          99,
          99,
          254,
          108,
          188,
          435,
          46,
          199,
          129,
          49,
          204,
          84,
          40,
          72,
          26,
          97,
          22,
          0
         ],
         "yaxis": "y2"
        }
       ],
       "layout": {
        "hovermode": "x",
        "template": {
         "data": {
          "bar": [
           {
            "error_x": {
             "color": "#f2f5fa"
            },
            "error_y": {
             "color": "#f2f5fa"
            },
            "marker": {
             "line": {
              "color": "rgb(17,17,17)",
              "width": 0.5
             }
            },
            "type": "bar"
           }
          ],
          "barpolar": [
           {
            "marker": {
             "line": {
              "color": "rgb(17,17,17)",
              "width": 0.5
             }
            },
            "type": "barpolar"
           }
          ],
          "carpet": [
           {
            "aaxis": {
             "endlinecolor": "#A2B1C6",
             "gridcolor": "#506784",
             "linecolor": "#506784",
             "minorgridcolor": "#506784",
             "startlinecolor": "#A2B1C6"
            },
            "baxis": {
             "endlinecolor": "#A2B1C6",
             "gridcolor": "#506784",
             "linecolor": "#506784",
             "minorgridcolor": "#506784",
             "startlinecolor": "#A2B1C6"
            },
            "type": "carpet"
           }
          ],
          "choropleth": [
           {
            "colorbar": {
             "outlinewidth": 0,
             "ticks": ""
            },
            "type": "choropleth"
           }
          ],
          "contour": [
           {
            "colorbar": {
             "outlinewidth": 0,
             "ticks": ""
            },
            "colorscale": [
             [
              0,
              "#0d0887"
             ],
             [
              0.1111111111111111,
              "#46039f"
             ],
             [
              0.2222222222222222,
              "#7201a8"
             ],
             [
              0.3333333333333333,
              "#9c179e"
             ],
             [
              0.4444444444444444,
              "#bd3786"
             ],
             [
              0.5555555555555556,
              "#d8576b"
             ],
             [
              0.6666666666666666,
              "#ed7953"
             ],
             [
              0.7777777777777778,
              "#fb9f3a"
             ],
             [
              0.8888888888888888,
              "#fdca26"
             ],
             [
              1,
              "#f0f921"
             ]
            ],
            "type": "contour"
           }
          ],
          "contourcarpet": [
           {
            "colorbar": {
             "outlinewidth": 0,
             "ticks": ""
            },
            "type": "contourcarpet"
           }
          ],
          "heatmap": [
           {
            "colorbar": {
             "outlinewidth": 0,
             "ticks": ""
            },
            "colorscale": [
             [
              0,
              "#0d0887"
             ],
             [
              0.1111111111111111,
              "#46039f"
             ],
             [
              0.2222222222222222,
              "#7201a8"
             ],
             [
              0.3333333333333333,
              "#9c179e"
             ],
             [
              0.4444444444444444,
              "#bd3786"
             ],
             [
              0.5555555555555556,
              "#d8576b"
             ],
             [
              0.6666666666666666,
              "#ed7953"
             ],
             [
              0.7777777777777778,
              "#fb9f3a"
             ],
             [
              0.8888888888888888,
              "#fdca26"
             ],
             [
              1,
              "#f0f921"
             ]
            ],
            "type": "heatmap"
           }
          ],
          "heatmapgl": [
           {
            "colorbar": {
             "outlinewidth": 0,
             "ticks": ""
            },
            "colorscale": [
             [
              0,
              "#0d0887"
             ],
             [
              0.1111111111111111,
              "#46039f"
             ],
             [
              0.2222222222222222,
              "#7201a8"
             ],
             [
              0.3333333333333333,
              "#9c179e"
             ],
             [
              0.4444444444444444,
              "#bd3786"
             ],
             [
              0.5555555555555556,
              "#d8576b"
             ],
             [
              0.6666666666666666,
              "#ed7953"
             ],
             [
              0.7777777777777778,
              "#fb9f3a"
             ],
             [
              0.8888888888888888,
              "#fdca26"
             ],
             [
              1,
              "#f0f921"
             ]
            ],
            "type": "heatmapgl"
           }
          ],
          "histogram": [
           {
            "marker": {
             "colorbar": {
              "outlinewidth": 0,
              "ticks": ""
             }
            },
            "type": "histogram"
           }
          ],
          "histogram2d": [
           {
            "colorbar": {
             "outlinewidth": 0,
             "ticks": ""
            },
            "colorscale": [
             [
              0,
              "#0d0887"
             ],
             [
              0.1111111111111111,
              "#46039f"
             ],
             [
              0.2222222222222222,
              "#7201a8"
             ],
             [
              0.3333333333333333,
              "#9c179e"
             ],
             [
              0.4444444444444444,
              "#bd3786"
             ],
             [
              0.5555555555555556,
              "#d8576b"
             ],
             [
              0.6666666666666666,
              "#ed7953"
             ],
             [
              0.7777777777777778,
              "#fb9f3a"
             ],
             [
              0.8888888888888888,
              "#fdca26"
             ],
             [
              1,
              "#f0f921"
             ]
            ],
            "type": "histogram2d"
           }
          ],
          "histogram2dcontour": [
           {
            "colorbar": {
             "outlinewidth": 0,
             "ticks": ""
            },
            "colorscale": [
             [
              0,
              "#0d0887"
             ],
             [
              0.1111111111111111,
              "#46039f"
             ],
             [
              0.2222222222222222,
              "#7201a8"
             ],
             [
              0.3333333333333333,
              "#9c179e"
             ],
             [
              0.4444444444444444,
              "#bd3786"
             ],
             [
              0.5555555555555556,
              "#d8576b"
             ],
             [
              0.6666666666666666,
              "#ed7953"
             ],
             [
              0.7777777777777778,
              "#fb9f3a"
             ],
             [
              0.8888888888888888,
              "#fdca26"
             ],
             [
              1,
              "#f0f921"
             ]
            ],
            "type": "histogram2dcontour"
           }
          ],
          "mesh3d": [
           {
            "colorbar": {
             "outlinewidth": 0,
             "ticks": ""
            },
            "type": "mesh3d"
           }
          ],
          "parcoords": [
           {
            "line": {
             "colorbar": {
              "outlinewidth": 0,
              "ticks": ""
             }
            },
            "type": "parcoords"
           }
          ],
          "pie": [
           {
            "automargin": true,
            "type": "pie"
           }
          ],
          "scatter": [
           {
            "marker": {
             "line": {
              "color": "#283442"
             }
            },
            "type": "scatter"
           }
          ],
          "scatter3d": [
           {
            "line": {
             "colorbar": {
              "outlinewidth": 0,
              "ticks": ""
             }
            },
            "marker": {
             "colorbar": {
              "outlinewidth": 0,
              "ticks": ""
             }
            },
            "type": "scatter3d"
           }
          ],
          "scattercarpet": [
           {
            "marker": {
             "colorbar": {
              "outlinewidth": 0,
              "ticks": ""
             }
            },
            "type": "scattercarpet"
           }
          ],
          "scattergeo": [
           {
            "marker": {
             "colorbar": {
              "outlinewidth": 0,
              "ticks": ""
             }
            },
            "type": "scattergeo"
           }
          ],
          "scattergl": [
           {
            "marker": {
             "line": {
              "color": "#283442"
             }
            },
            "type": "scattergl"
           }
          ],
          "scattermapbox": [
           {
            "marker": {
             "colorbar": {
              "outlinewidth": 0,
              "ticks": ""
             }
            },
            "type": "scattermapbox"
           }
          ],
          "scatterpolar": [
           {
            "marker": {
             "colorbar": {
              "outlinewidth": 0,
              "ticks": ""
             }
            },
            "type": "scatterpolar"
           }
          ],
          "scatterpolargl": [
           {
            "marker": {
             "colorbar": {
              "outlinewidth": 0,
              "ticks": ""
             }
            },
            "type": "scatterpolargl"
           }
          ],
          "scatterternary": [
           {
            "marker": {
             "colorbar": {
              "outlinewidth": 0,
              "ticks": ""
             }
            },
            "type": "scatterternary"
           }
          ],
          "surface": [
           {
            "colorbar": {
             "outlinewidth": 0,
             "ticks": ""
            },
            "colorscale": [
             [
              0,
              "#0d0887"
             ],
             [
              0.1111111111111111,
              "#46039f"
             ],
             [
              0.2222222222222222,
              "#7201a8"
             ],
             [
              0.3333333333333333,
              "#9c179e"
             ],
             [
              0.4444444444444444,
              "#bd3786"
             ],
             [
              0.5555555555555556,
              "#d8576b"
             ],
             [
              0.6666666666666666,
              "#ed7953"
             ],
             [
              0.7777777777777778,
              "#fb9f3a"
             ],
             [
              0.8888888888888888,
              "#fdca26"
             ],
             [
              1,
              "#f0f921"
             ]
            ],
            "type": "surface"
           }
          ],
          "table": [
           {
            "cells": {
             "fill": {
              "color": "#506784"
             },
             "line": {
              "color": "rgb(17,17,17)"
             }
            },
            "header": {
             "fill": {
              "color": "#2a3f5f"
             },
             "line": {
              "color": "rgb(17,17,17)"
             }
            },
            "type": "table"
           }
          ]
         },
         "layout": {
          "annotationdefaults": {
           "arrowcolor": "#f2f5fa",
           "arrowhead": 0,
           "arrowwidth": 1
          },
          "coloraxis": {
           "colorbar": {
            "outlinewidth": 0,
            "ticks": ""
           }
          },
          "colorscale": {
           "diverging": [
            [
             0,
             "#8e0152"
            ],
            [
             0.1,
             "#c51b7d"
            ],
            [
             0.2,
             "#de77ae"
            ],
            [
             0.3,
             "#f1b6da"
            ],
            [
             0.4,
             "#fde0ef"
            ],
            [
             0.5,
             "#f7f7f7"
            ],
            [
             0.6,
             "#e6f5d0"
            ],
            [
             0.7,
             "#b8e186"
            ],
            [
             0.8,
             "#7fbc41"
            ],
            [
             0.9,
             "#4d9221"
            ],
            [
             1,
             "#276419"
            ]
           ],
           "sequential": [
            [
             0,
             "#0d0887"
            ],
            [
             0.1111111111111111,
             "#46039f"
            ],
            [
             0.2222222222222222,
             "#7201a8"
            ],
            [
             0.3333333333333333,
             "#9c179e"
            ],
            [
             0.4444444444444444,
             "#bd3786"
            ],
            [
             0.5555555555555556,
             "#d8576b"
            ],
            [
             0.6666666666666666,
             "#ed7953"
            ],
            [
             0.7777777777777778,
             "#fb9f3a"
            ],
            [
             0.8888888888888888,
             "#fdca26"
            ],
            [
             1,
             "#f0f921"
            ]
           ],
           "sequentialminus": [
            [
             0,
             "#0d0887"
            ],
            [
             0.1111111111111111,
             "#46039f"
            ],
            [
             0.2222222222222222,
             "#7201a8"
            ],
            [
             0.3333333333333333,
             "#9c179e"
            ],
            [
             0.4444444444444444,
             "#bd3786"
            ],
            [
             0.5555555555555556,
             "#d8576b"
            ],
            [
             0.6666666666666666,
             "#ed7953"
            ],
            [
             0.7777777777777778,
             "#fb9f3a"
            ],
            [
             0.8888888888888888,
             "#fdca26"
            ],
            [
             1,
             "#f0f921"
            ]
           ]
          },
          "colorway": [
           "#636efa",
           "#EF553B",
           "#00cc96",
           "#ab63fa",
           "#FFA15A",
           "#19d3f3",
           "#FF6692",
           "#B6E880",
           "#FF97FF",
           "#FECB52"
          ],
          "font": {
           "color": "#f2f5fa"
          },
          "geo": {
           "bgcolor": "rgb(17,17,17)",
           "lakecolor": "rgb(17,17,17)",
           "landcolor": "rgb(17,17,17)",
           "showlakes": true,
           "showland": true,
           "subunitcolor": "#506784"
          },
          "hoverlabel": {
           "align": "left"
          },
          "hovermode": "closest",
          "mapbox": {
           "style": "dark"
          },
          "paper_bgcolor": "rgb(17,17,17)",
          "plot_bgcolor": "rgb(17,17,17)",
          "polar": {
           "angularaxis": {
            "gridcolor": "#506784",
            "linecolor": "#506784",
            "ticks": ""
           },
           "bgcolor": "rgb(17,17,17)",
           "radialaxis": {
            "gridcolor": "#506784",
            "linecolor": "#506784",
            "ticks": ""
           }
          },
          "scene": {
           "xaxis": {
            "backgroundcolor": "rgb(17,17,17)",
            "gridcolor": "#506784",
            "gridwidth": 2,
            "linecolor": "#506784",
            "showbackground": true,
            "ticks": "",
            "zerolinecolor": "#C8D4E3"
           },
           "yaxis": {
            "backgroundcolor": "rgb(17,17,17)",
            "gridcolor": "#506784",
            "gridwidth": 2,
            "linecolor": "#506784",
            "showbackground": true,
            "ticks": "",
            "zerolinecolor": "#C8D4E3"
           },
           "zaxis": {
            "backgroundcolor": "rgb(17,17,17)",
            "gridcolor": "#506784",
            "gridwidth": 2,
            "linecolor": "#506784",
            "showbackground": true,
            "ticks": "",
            "zerolinecolor": "#C8D4E3"
           }
          },
          "shapedefaults": {
           "line": {
            "color": "#f2f5fa"
           }
          },
          "sliderdefaults": {
           "bgcolor": "#C8D4E3",
           "bordercolor": "rgb(17,17,17)",
           "borderwidth": 1,
           "tickwidth": 0
          },
          "ternary": {
           "aaxis": {
            "gridcolor": "#506784",
            "linecolor": "#506784",
            "ticks": ""
           },
           "baxis": {
            "gridcolor": "#506784",
            "linecolor": "#506784",
            "ticks": ""
           },
           "bgcolor": "rgb(17,17,17)",
           "caxis": {
            "gridcolor": "#506784",
            "linecolor": "#506784",
            "ticks": ""
           }
          },
          "title": {
           "x": 0.05
          },
          "updatemenudefaults": {
           "bgcolor": "#506784",
           "borderwidth": 0
          },
          "xaxis": {
           "automargin": true,
           "gridcolor": "#283442",
           "linecolor": "#506784",
           "ticks": "",
           "title": {
            "standoff": 15
           },
           "zerolinecolor": "#283442",
           "zerolinewidth": 2
          },
          "yaxis": {
           "automargin": true,
           "gridcolor": "#283442",
           "linecolor": "#506784",
           "ticks": "",
           "title": {
            "standoff": 15
           },
           "zerolinecolor": "#283442",
           "zerolinewidth": 2
          }
         }
        },
        "title": {
         "text": "Retweets and Likes Over Time"
        },
        "xaxis": {
         "anchor": "y",
         "domain": [
          0,
          1
         ]
        },
        "xaxis2": {
         "anchor": "y2",
         "domain": [
          0,
          1
         ],
         "title": {
          "text": "Date"
         }
        },
        "yaxis": {
         "anchor": "x",
         "domain": [
          0.575,
          1
         ],
         "title": {
          "text": "Likes"
         }
        },
        "yaxis2": {
         "anchor": "x2",
         "domain": [
          0,
          0.425
         ],
         "title": {
          "text": "Retweets"
         }
        }
       }
      },
      "text/html": [
       "<div>\n",
       "        \n",
       "        \n",
       "            <div id=\"605fae89-57bc-4ffd-9905-1ce888e02853\" class=\"plotly-graph-div\" style=\"height:525px; width:100%;\"></div>\n",
       "            <script type=\"text/javascript\">\n",
       "                require([\"plotly\"], function(Plotly) {\n",
       "                    window.PLOTLYENV=window.PLOTLYENV || {};\n",
       "                    \n",
       "                if (document.getElementById(\"605fae89-57bc-4ffd-9905-1ce888e02853\")) {\n",
       "                    Plotly.newPlot(\n",
       "                        '605fae89-57bc-4ffd-9905-1ce888e02853',\n",
       "                        [{\"hoverinfo\": \"name+x+y\", \"marker\": {\"color\": \"goldenrod\", \"size\": 5}, \"mode\": \"markers+lines\", \"name\": \"Likes\", \"type\": \"scatter\", \"x\": [\"2020-05-20T09:13:46\", \"2020-05-20T09:29:08\", \"2020-05-20T09:35:03\", \"2020-05-20T09:44:06\", \"2020-05-20T10:08:02\", \"2020-05-20T10:25:55\", \"2020-05-20T10:33:17\", \"2020-05-20T10:51:37\", \"2020-05-20T10:56:24\", \"2020-05-20T11:03:05\", \"2020-05-20T11:15:05\", \"2020-05-20T11:30:05\", \"2020-05-20T11:45:05\", \"2020-05-20T12:00:01\", \"2020-05-20T12:15:04\", \"2020-05-20T12:30:06\", \"2020-05-20T12:45:00\", \"2020-05-20T13:00:15\", \"2020-05-20T13:10:06\", \"2020-05-20T13:20:06\", \"2020-05-20T13:30:12\", \"2020-05-20T13:40:06\", \"2020-05-20T13:50:07\", \"2020-05-20T14:00:07\", \"2020-05-20T14:10:03\", \"2020-05-20T14:20:03\", \"2020-05-20T14:30:06\", \"2020-05-20T14:40:06\", \"2020-05-20T14:50:06\", \"2020-05-20T15:00:17\", \"2020-05-20T15:10:06\", \"2020-05-20T15:20:05\", \"2020-05-20T15:30:07\", \"2020-05-20T15:40:08\", \"2020-05-20T15:50:09\", \"2020-05-20T16:00:08\", \"2020-05-20T16:10:06\", \"2020-05-20T16:30:07\", \"2020-05-20T16:40:04\", \"2020-05-20T16:50:03\", \"2020-05-20T17:00:12\", \"2020-05-20T17:10:02\", \"2020-05-20T17:20:06\", \"2020-05-20T17:30:09\", \"2020-05-20T17:40:03\", \"2020-05-20T17:51:02\", \"2020-05-20T18:00:03\", \"2020-05-20T18:10:09\", \"2020-05-20T18:20:05\", \"2020-05-20T18:30:05\", \"2020-05-20T18:40:10\", \"2020-05-20T18:50:03\", \"2020-05-20T19:01:07\", \"2020-05-20T19:19:07\", \"2020-05-20T19:40:12\", \"2020-05-20T19:56:28\", \"2020-05-20T20:11:35\", \"2020-05-20T20:26:49\", \"2020-05-20T20:26:51\", \"2020-05-20T20:27:28\", \"2020-05-20T21:14:44\", \"2020-05-20T21:29:58\", \"2020-05-20T21:45:47\", \"2020-05-20T21:50:38\", \"2020-05-20T22:07:53\", \"2020-05-20T22:23:00\", \"2020-05-20T22:38:10\", \"2020-05-20T22:51:07\", \"2020-05-20T23:00:47\", \"2020-05-20T23:18:55\", \"2020-05-20T23:37:20\", \"2020-05-20T23:55:06\", \"2020-05-21T00:04:53\", \"2020-05-21T00:16:26\", \"2020-05-21T00:18:40\", \"2020-05-21T00:30:11\", \"2020-05-21T00:43:33\", \"2020-05-21T00:57:02\", \"2020-05-21T01:08:04\", \"2020-05-21T01:17:58\", \"2020-05-21T01:25:42\", \"2020-05-21T01:34:44\", \"2020-05-21T01:35:27\", \"2020-05-21T01:35:48\", \"2020-05-21T01:36:40\", \"2020-05-21T01:37:04\", \"2020-05-21T01:39:50\", \"2020-05-21T01:43:23\", \"2020-05-21T01:46:40\", \"2020-05-21T01:48:51\", \"2020-05-21T01:49:47\", \"2020-05-21T01:51:00\", \"2020-05-21T01:52:12\", \"2020-05-21T01:55:52\", \"2020-05-21T01:56:18\", \"2020-05-21T01:59:20\", \"2020-05-21T02:01:00\", \"2020-05-21T02:02:03\", \"2020-05-21T02:06:07\", \"2020-05-21T02:11:00\", \"2020-05-21T02:11:06\", \"2020-05-21T02:12:02\", \"2020-05-21T02:19:02\", \"2020-05-21T02:21:00\", \"2020-05-21T02:29:54\", \"2020-05-21T02:31:00\", \"2020-05-21T02:35:58\", \"2020-05-21T02:40:31\", \"2020-05-21T02:41:00\", \"2020-05-21T02:51:27\", \"2020-05-21T03:01:00\", \"2020-05-21T03:01:07\", \"2020-05-21T03:03:06\", \"2020-05-21T03:04:05\", \"2020-05-21T03:05:01\", \"2020-05-21T03:08:05\", \"2020-05-21T03:08:06\", \"2020-05-21T03:09:06\", \"2020-05-21T03:11:00\", \"2020-05-21T03:12:06\", \"2020-05-21T03:12:07\", \"2020-05-21T03:15:05\", \"2020-05-21T03:15:05\", \"2020-05-21T03:16:04\", \"2020-05-21T03:19:02\", \"2020-05-21T03:20:04\", \"2020-05-21T03:20:04\", \"2020-05-21T03:21:04\", \"2020-05-21T03:35:16\", \"2020-05-21T03:53:34\", \"2020-05-21T04:01:09\", \"2020-05-21T04:11:06\", \"2020-05-21T04:25:02\", \"2020-05-21T04:35:56\", \"2020-05-21T04:45:01\", \"2020-05-21T04:57:37\", \"2020-05-21T05:06:47\", \"2020-05-21T05:20:02\", \"2020-05-21T05:35:07\", \"2020-05-21T05:50:02\", \"2020-05-21T06:00:58\", \"2020-05-21T06:10:12\", \"2020-05-21T06:25:03\", \"2020-05-21T06:36:14\", \"2020-05-21T06:40:05\", \"2020-05-21T06:55:07\", \"2020-05-21T07:10:07\", \"2020-05-21T07:25:06\", \"2020-05-21T07:50:02\", \"2020-05-21T08:03:43\", \"2020-05-21T08:31:58\", \"2020-05-21T08:50:10\", \"2020-05-21T09:15:10\", \"2020-05-21T09:25:03\", \"2020-05-21T09:57:54\", \"2020-05-21T09:59:05\", \"2020-05-21T10:20:03\", \"2020-05-21T10:37:45\", \"2020-05-21T10:45:09\", \"2020-05-21T11:00:13\", \"2020-05-21T11:15:05\", \"2020-05-21T11:30:06\", \"2020-05-21T11:45:04\", \"2020-05-21T12:00:08\", \"2020-05-21T12:13:48\", \"2020-05-21T12:15:06\", \"2020-05-21T12:30:09\", \"2020-05-21T12:45:10\", \"2020-05-21T12:50:02\", \"2020-05-21T13:00:04\", \"2020-05-21T13:16:34\", \"2020-05-21T13:17:17\", \"2020-05-21T13:26:51\", \"2020-05-21T13:40:07\", \"2020-05-21T13:51:07\", \"2020-05-21T14:02:33\", \"2020-05-21T14:10:08\", \"2020-05-21T14:20:00\", \"2020-05-21T14:30:06\", \"2020-05-21T14:40:07\", \"2020-05-21T14:42:23\", \"2020-05-21T14:50:07\", \"2020-05-21T15:00:07\", \"2020-05-21T15:10:05\", \"2020-05-21T15:20:01\", \"2020-05-21T15:30:03\", \"2020-05-21T15:40:48\", \"2020-05-21T15:52:13\", \"2020-05-21T16:00:07\", \"2020-05-21T16:10:04\", \"2020-05-21T16:20:09\", \"2020-05-21T16:30:07\", \"2020-05-21T16:39:34\", \"2020-05-21T16:40:09\", \"2020-05-21T16:50:06\", \"2020-05-21T17:00:19\", \"2020-05-21T17:10:06\", \"2020-05-21T17:20:05\", \"2020-05-21T17:44:48\", \"2020-05-21T17:50:01\"], \"xaxis\": \"x\", \"y\": [156, 824, 247, 269, 267, 149, 193, 0, 549, 115, 289, 349, 293, 208, 1848, 96, 1266, 189, 190, 270, 723, 4432, 456, 116, 190, 277, 205, 140, 175, 235, 251, 210, 200, 168, 1137, 203, 234, 348, 231, 616, 1642, 201, 374, 245, 3214, 224, 637, 207, 870, 1691, 451, 613, 955, 279, 554, 456, 175, 579, 158, 717, 646, 376, 164, 102, 182, 91, 1210, 1562, 303, 157, 843, 163, 373, 421, 179, 201, 202, 117, 160, 2976, 184, 0, 91, 112, 264, 278, 156, 377, 511, 0, 238, 130, 0, 407, 0, 1830, 222, 176, 119, 156, 284, 317, 175, 281, 270, 508, 296, 606, 416, 210, 275, 351, 173, 280, 234, 133, 1267, 148, 783, 267, 141, 245, 180, 1028, 1444, 106, 200, 248, 869, 741, 237, 316, 715, 1742, 638, 631, 262, 9178, 450, 245, 274, 4981, 297, 278, 182, 1527, 409, 337, 206, 239, 2423, 206, 322, 342, 225, 172, 164, 1839, 384, 210, 310, 257, 729, 234, 0, 133, 316, 508, 462, 135, 418, 0, 845, 226, 204, 457, 669, 850, 113, 233, 0, 209, 354, 248, 365, 282, 826, 1018, 263, 668, 324, 198, 729, 218, 149, 190, 93, 271, 62, 0], \"yaxis\": \"y\"}, {\"hoverinfo\": \"name+x+y\", \"marker\": {\"color\": \"darkseagreen\", \"size\": 5}, \"mode\": \"markers+lines\", \"name\": \"Retweets\", \"type\": \"scatter\", \"x\": [\"2020-05-20T09:13:46\", \"2020-05-20T09:29:08\", \"2020-05-20T09:35:03\", \"2020-05-20T09:44:06\", \"2020-05-20T10:08:02\", \"2020-05-20T10:25:55\", \"2020-05-20T10:33:17\", \"2020-05-20T10:51:37\", \"2020-05-20T10:56:24\", \"2020-05-20T11:03:05\", \"2020-05-20T11:15:05\", \"2020-05-20T11:30:05\", \"2020-05-20T11:45:05\", \"2020-05-20T12:00:01\", \"2020-05-20T12:15:04\", \"2020-05-20T12:30:06\", \"2020-05-20T12:45:00\", \"2020-05-20T13:00:15\", \"2020-05-20T13:10:06\", \"2020-05-20T13:20:06\", \"2020-05-20T13:30:12\", \"2020-05-20T13:40:06\", \"2020-05-20T13:50:07\", \"2020-05-20T14:00:07\", \"2020-05-20T14:10:03\", \"2020-05-20T14:20:03\", \"2020-05-20T14:30:06\", \"2020-05-20T14:40:06\", \"2020-05-20T14:50:06\", \"2020-05-20T15:00:17\", \"2020-05-20T15:10:06\", \"2020-05-20T15:20:05\", \"2020-05-20T15:30:07\", \"2020-05-20T15:40:08\", \"2020-05-20T15:50:09\", \"2020-05-20T16:00:08\", \"2020-05-20T16:10:06\", \"2020-05-20T16:30:07\", \"2020-05-20T16:40:04\", \"2020-05-20T16:50:03\", \"2020-05-20T17:00:12\", \"2020-05-20T17:10:02\", \"2020-05-20T17:20:06\", \"2020-05-20T17:30:09\", \"2020-05-20T17:40:03\", \"2020-05-20T17:51:02\", \"2020-05-20T18:00:03\", \"2020-05-20T18:10:09\", \"2020-05-20T18:20:05\", \"2020-05-20T18:30:05\", \"2020-05-20T18:40:10\", \"2020-05-20T18:50:03\", \"2020-05-20T19:01:07\", \"2020-05-20T19:19:07\", \"2020-05-20T19:40:12\", \"2020-05-20T19:56:28\", \"2020-05-20T20:11:35\", \"2020-05-20T20:26:49\", \"2020-05-20T20:26:51\", \"2020-05-20T20:27:28\", \"2020-05-20T21:14:44\", \"2020-05-20T21:29:58\", \"2020-05-20T21:45:47\", \"2020-05-20T21:50:38\", \"2020-05-20T22:07:53\", \"2020-05-20T22:23:00\", \"2020-05-20T22:38:10\", \"2020-05-20T22:51:07\", \"2020-05-20T23:00:47\", \"2020-05-20T23:18:55\", \"2020-05-20T23:37:20\", \"2020-05-20T23:55:06\", \"2020-05-21T00:04:53\", \"2020-05-21T00:16:26\", \"2020-05-21T00:18:40\", \"2020-05-21T00:30:11\", \"2020-05-21T00:43:33\", \"2020-05-21T00:57:02\", \"2020-05-21T01:08:04\", \"2020-05-21T01:17:58\", \"2020-05-21T01:25:42\", \"2020-05-21T01:34:44\", \"2020-05-21T01:35:27\", \"2020-05-21T01:35:48\", \"2020-05-21T01:36:40\", \"2020-05-21T01:37:04\", \"2020-05-21T01:39:50\", \"2020-05-21T01:43:23\", \"2020-05-21T01:46:40\", \"2020-05-21T01:48:51\", \"2020-05-21T01:49:47\", \"2020-05-21T01:51:00\", \"2020-05-21T01:52:12\", \"2020-05-21T01:55:52\", \"2020-05-21T01:56:18\", \"2020-05-21T01:59:20\", \"2020-05-21T02:01:00\", \"2020-05-21T02:02:03\", \"2020-05-21T02:06:07\", \"2020-05-21T02:11:00\", \"2020-05-21T02:11:06\", \"2020-05-21T02:12:02\", \"2020-05-21T02:19:02\", \"2020-05-21T02:21:00\", \"2020-05-21T02:29:54\", \"2020-05-21T02:31:00\", \"2020-05-21T02:35:58\", \"2020-05-21T02:40:31\", \"2020-05-21T02:41:00\", \"2020-05-21T02:51:27\", \"2020-05-21T03:01:00\", \"2020-05-21T03:01:07\", \"2020-05-21T03:03:06\", \"2020-05-21T03:04:05\", \"2020-05-21T03:05:01\", \"2020-05-21T03:08:05\", \"2020-05-21T03:08:06\", \"2020-05-21T03:09:06\", \"2020-05-21T03:11:00\", \"2020-05-21T03:12:06\", \"2020-05-21T03:12:07\", \"2020-05-21T03:15:05\", \"2020-05-21T03:15:05\", \"2020-05-21T03:16:04\", \"2020-05-21T03:19:02\", \"2020-05-21T03:20:04\", \"2020-05-21T03:20:04\", \"2020-05-21T03:21:04\", \"2020-05-21T03:35:16\", \"2020-05-21T03:53:34\", \"2020-05-21T04:01:09\", \"2020-05-21T04:11:06\", \"2020-05-21T04:25:02\", \"2020-05-21T04:35:56\", \"2020-05-21T04:45:01\", \"2020-05-21T04:57:37\", \"2020-05-21T05:06:47\", \"2020-05-21T05:20:02\", \"2020-05-21T05:35:07\", \"2020-05-21T05:50:02\", \"2020-05-21T06:00:58\", \"2020-05-21T06:10:12\", \"2020-05-21T06:25:03\", \"2020-05-21T06:36:14\", \"2020-05-21T06:40:05\", \"2020-05-21T06:55:07\", \"2020-05-21T07:10:07\", \"2020-05-21T07:25:06\", \"2020-05-21T07:50:02\", \"2020-05-21T08:03:43\", \"2020-05-21T08:31:58\", \"2020-05-21T08:50:10\", \"2020-05-21T09:15:10\", \"2020-05-21T09:25:03\", \"2020-05-21T09:57:54\", \"2020-05-21T09:59:05\", \"2020-05-21T10:20:03\", \"2020-05-21T10:37:45\", \"2020-05-21T10:45:09\", \"2020-05-21T11:00:13\", \"2020-05-21T11:15:05\", \"2020-05-21T11:30:06\", \"2020-05-21T11:45:04\", \"2020-05-21T12:00:08\", \"2020-05-21T12:13:48\", \"2020-05-21T12:15:06\", \"2020-05-21T12:30:09\", \"2020-05-21T12:45:10\", \"2020-05-21T12:50:02\", \"2020-05-21T13:00:04\", \"2020-05-21T13:16:34\", \"2020-05-21T13:17:17\", \"2020-05-21T13:26:51\", \"2020-05-21T13:40:07\", \"2020-05-21T13:51:07\", \"2020-05-21T14:02:33\", \"2020-05-21T14:10:08\", \"2020-05-21T14:20:00\", \"2020-05-21T14:30:06\", \"2020-05-21T14:40:07\", \"2020-05-21T14:42:23\", \"2020-05-21T14:50:07\", \"2020-05-21T15:00:07\", \"2020-05-21T15:10:05\", \"2020-05-21T15:20:01\", \"2020-05-21T15:30:03\", \"2020-05-21T15:40:48\", \"2020-05-21T15:52:13\", \"2020-05-21T16:00:07\", \"2020-05-21T16:10:04\", \"2020-05-21T16:20:09\", \"2020-05-21T16:30:07\", \"2020-05-21T16:39:34\", \"2020-05-21T16:40:09\", \"2020-05-21T16:50:06\", \"2020-05-21T17:00:19\", \"2020-05-21T17:10:06\", \"2020-05-21T17:20:05\", \"2020-05-21T17:44:48\", \"2020-05-21T17:50:01\"], \"xaxis\": \"x2\", \"y\": [55, 381, 49, 97, 73, 33, 89, 125, 259, 27, 116, 68, 116, 61, 728, 31, 318, 65, 84, 87, 121, 768, 268, 41, 73, 145, 85, 50, 44, 73, 100, 101, 63, 77, 154, 51, 54, 141, 66, 185, 454, 65, 98, 88, 273, 116, 294, 80, 233, 285, 234, 255, 218, 115, 293, 220, 61, 202, 48, 479, 223, 115, 59, 24, 46, 30, 195, 483, 115, 41, 179, 38, 159, 115, 101, 54, 42, 33, 40, 520, 81, 42, 24, 34, 72, 91, 42, 92, 240, 105, 65, 38, 27, 100, 742, 379, 69, 47, 38, 48, 62, 65, 70, 64, 48, 158, 63, 179, 182, 87, 71, 108, 42, 98, 77, 60, 452, 47, 178, 71, 43, 128, 79, 182, 593, 30, 68, 70, 206, 435, 91, 84, 137, 401, 178, 197, 88, 3390, 230, 65, 114, 811, 75, 136, 67, 374, 187, 136, 81, 91, 401, 73, 103, 80, 55, 56, 67, 425, 112, 88, 54, 58, 167, 102, 43, 37, 88, 111, 246, 68, 205, 92, 241, 78, 65, 150, 147, 275, 32, 78, 122, 80, 99, 99, 254, 108, 188, 435, 46, 199, 129, 49, 204, 84, 40, 72, 26, 97, 22, 0], \"yaxis\": \"y2\"}],\n",
       "                        {\"hovermode\": \"x\", \"template\": {\"data\": {\"bar\": [{\"error_x\": {\"color\": \"#f2f5fa\"}, \"error_y\": {\"color\": \"#f2f5fa\"}, \"marker\": {\"line\": {\"color\": \"rgb(17,17,17)\", \"width\": 0.5}}, \"type\": \"bar\"}], \"barpolar\": [{\"marker\": {\"line\": {\"color\": \"rgb(17,17,17)\", \"width\": 0.5}}, \"type\": \"barpolar\"}], \"carpet\": [{\"aaxis\": {\"endlinecolor\": \"#A2B1C6\", \"gridcolor\": \"#506784\", \"linecolor\": \"#506784\", \"minorgridcolor\": \"#506784\", \"startlinecolor\": \"#A2B1C6\"}, \"baxis\": {\"endlinecolor\": \"#A2B1C6\", \"gridcolor\": \"#506784\", \"linecolor\": \"#506784\", \"minorgridcolor\": \"#506784\", \"startlinecolor\": \"#A2B1C6\"}, \"type\": \"carpet\"}], \"choropleth\": [{\"colorbar\": {\"outlinewidth\": 0, \"ticks\": \"\"}, \"type\": \"choropleth\"}], \"contour\": [{\"colorbar\": {\"outlinewidth\": 0, \"ticks\": \"\"}, \"colorscale\": [[0.0, \"#0d0887\"], [0.1111111111111111, \"#46039f\"], [0.2222222222222222, \"#7201a8\"], [0.3333333333333333, \"#9c179e\"], [0.4444444444444444, \"#bd3786\"], [0.5555555555555556, \"#d8576b\"], [0.6666666666666666, \"#ed7953\"], [0.7777777777777778, \"#fb9f3a\"], [0.8888888888888888, \"#fdca26\"], [1.0, \"#f0f921\"]], \"type\": \"contour\"}], \"contourcarpet\": [{\"colorbar\": {\"outlinewidth\": 0, \"ticks\": \"\"}, \"type\": \"contourcarpet\"}], \"heatmap\": [{\"colorbar\": {\"outlinewidth\": 0, \"ticks\": \"\"}, \"colorscale\": [[0.0, \"#0d0887\"], [0.1111111111111111, \"#46039f\"], [0.2222222222222222, \"#7201a8\"], [0.3333333333333333, \"#9c179e\"], [0.4444444444444444, \"#bd3786\"], [0.5555555555555556, \"#d8576b\"], [0.6666666666666666, \"#ed7953\"], [0.7777777777777778, \"#fb9f3a\"], [0.8888888888888888, \"#fdca26\"], [1.0, \"#f0f921\"]], \"type\": \"heatmap\"}], \"heatmapgl\": [{\"colorbar\": {\"outlinewidth\": 0, \"ticks\": \"\"}, \"colorscale\": [[0.0, \"#0d0887\"], [0.1111111111111111, \"#46039f\"], [0.2222222222222222, \"#7201a8\"], [0.3333333333333333, \"#9c179e\"], [0.4444444444444444, \"#bd3786\"], [0.5555555555555556, \"#d8576b\"], [0.6666666666666666, \"#ed7953\"], [0.7777777777777778, \"#fb9f3a\"], [0.8888888888888888, \"#fdca26\"], [1.0, \"#f0f921\"]], \"type\": \"heatmapgl\"}], \"histogram\": [{\"marker\": {\"colorbar\": {\"outlinewidth\": 0, \"ticks\": \"\"}}, \"type\": \"histogram\"}], \"histogram2d\": [{\"colorbar\": {\"outlinewidth\": 0, \"ticks\": \"\"}, \"colorscale\": [[0.0, \"#0d0887\"], [0.1111111111111111, \"#46039f\"], [0.2222222222222222, \"#7201a8\"], [0.3333333333333333, \"#9c179e\"], [0.4444444444444444, \"#bd3786\"], [0.5555555555555556, \"#d8576b\"], [0.6666666666666666, \"#ed7953\"], [0.7777777777777778, \"#fb9f3a\"], [0.8888888888888888, \"#fdca26\"], [1.0, \"#f0f921\"]], \"type\": \"histogram2d\"}], \"histogram2dcontour\": [{\"colorbar\": {\"outlinewidth\": 0, \"ticks\": \"\"}, \"colorscale\": [[0.0, \"#0d0887\"], [0.1111111111111111, \"#46039f\"], [0.2222222222222222, \"#7201a8\"], [0.3333333333333333, \"#9c179e\"], [0.4444444444444444, \"#bd3786\"], [0.5555555555555556, \"#d8576b\"], [0.6666666666666666, \"#ed7953\"], [0.7777777777777778, \"#fb9f3a\"], [0.8888888888888888, \"#fdca26\"], [1.0, \"#f0f921\"]], \"type\": \"histogram2dcontour\"}], \"mesh3d\": [{\"colorbar\": {\"outlinewidth\": 0, \"ticks\": \"\"}, \"type\": \"mesh3d\"}], \"parcoords\": [{\"line\": {\"colorbar\": {\"outlinewidth\": 0, \"ticks\": \"\"}}, \"type\": \"parcoords\"}], \"pie\": [{\"automargin\": true, \"type\": \"pie\"}], \"scatter\": [{\"marker\": {\"line\": {\"color\": \"#283442\"}}, \"type\": \"scatter\"}], \"scatter3d\": [{\"line\": {\"colorbar\": {\"outlinewidth\": 0, \"ticks\": \"\"}}, \"marker\": {\"colorbar\": {\"outlinewidth\": 0, \"ticks\": \"\"}}, \"type\": \"scatter3d\"}], \"scattercarpet\": [{\"marker\": {\"colorbar\": {\"outlinewidth\": 0, \"ticks\": \"\"}}, \"type\": \"scattercarpet\"}], \"scattergeo\": [{\"marker\": {\"colorbar\": {\"outlinewidth\": 0, \"ticks\": \"\"}}, \"type\": \"scattergeo\"}], \"scattergl\": [{\"marker\": {\"line\": {\"color\": \"#283442\"}}, \"type\": \"scattergl\"}], \"scattermapbox\": [{\"marker\": {\"colorbar\": {\"outlinewidth\": 0, \"ticks\": \"\"}}, \"type\": \"scattermapbox\"}], \"scatterpolar\": [{\"marker\": {\"colorbar\": {\"outlinewidth\": 0, \"ticks\": \"\"}}, \"type\": \"scatterpolar\"}], \"scatterpolargl\": [{\"marker\": {\"colorbar\": {\"outlinewidth\": 0, \"ticks\": \"\"}}, \"type\": \"scatterpolargl\"}], \"scatterternary\": [{\"marker\": {\"colorbar\": {\"outlinewidth\": 0, \"ticks\": \"\"}}, \"type\": \"scatterternary\"}], \"surface\": [{\"colorbar\": {\"outlinewidth\": 0, \"ticks\": \"\"}, \"colorscale\": [[0.0, \"#0d0887\"], [0.1111111111111111, \"#46039f\"], [0.2222222222222222, \"#7201a8\"], [0.3333333333333333, \"#9c179e\"], [0.4444444444444444, \"#bd3786\"], [0.5555555555555556, \"#d8576b\"], [0.6666666666666666, \"#ed7953\"], [0.7777777777777778, \"#fb9f3a\"], [0.8888888888888888, \"#fdca26\"], [1.0, \"#f0f921\"]], \"type\": \"surface\"}], \"table\": [{\"cells\": {\"fill\": {\"color\": \"#506784\"}, \"line\": {\"color\": \"rgb(17,17,17)\"}}, \"header\": {\"fill\": {\"color\": \"#2a3f5f\"}, \"line\": {\"color\": \"rgb(17,17,17)\"}}, \"type\": \"table\"}]}, \"layout\": {\"annotationdefaults\": {\"arrowcolor\": \"#f2f5fa\", \"arrowhead\": 0, \"arrowwidth\": 1}, \"coloraxis\": {\"colorbar\": {\"outlinewidth\": 0, \"ticks\": \"\"}}, \"colorscale\": {\"diverging\": [[0, \"#8e0152\"], [0.1, \"#c51b7d\"], [0.2, \"#de77ae\"], [0.3, \"#f1b6da\"], [0.4, \"#fde0ef\"], [0.5, \"#f7f7f7\"], [0.6, \"#e6f5d0\"], [0.7, \"#b8e186\"], [0.8, \"#7fbc41\"], [0.9, \"#4d9221\"], [1, \"#276419\"]], \"sequential\": [[0.0, \"#0d0887\"], [0.1111111111111111, \"#46039f\"], [0.2222222222222222, \"#7201a8\"], [0.3333333333333333, \"#9c179e\"], [0.4444444444444444, \"#bd3786\"], [0.5555555555555556, \"#d8576b\"], [0.6666666666666666, \"#ed7953\"], [0.7777777777777778, \"#fb9f3a\"], [0.8888888888888888, \"#fdca26\"], [1.0, \"#f0f921\"]], \"sequentialminus\": [[0.0, \"#0d0887\"], [0.1111111111111111, \"#46039f\"], [0.2222222222222222, \"#7201a8\"], [0.3333333333333333, \"#9c179e\"], [0.4444444444444444, \"#bd3786\"], [0.5555555555555556, \"#d8576b\"], [0.6666666666666666, \"#ed7953\"], [0.7777777777777778, \"#fb9f3a\"], [0.8888888888888888, \"#fdca26\"], [1.0, \"#f0f921\"]]}, \"colorway\": [\"#636efa\", \"#EF553B\", \"#00cc96\", \"#ab63fa\", \"#FFA15A\", \"#19d3f3\", \"#FF6692\", \"#B6E880\", \"#FF97FF\", \"#FECB52\"], \"font\": {\"color\": \"#f2f5fa\"}, \"geo\": {\"bgcolor\": \"rgb(17,17,17)\", \"lakecolor\": \"rgb(17,17,17)\", \"landcolor\": \"rgb(17,17,17)\", \"showlakes\": true, \"showland\": true, \"subunitcolor\": \"#506784\"}, \"hoverlabel\": {\"align\": \"left\"}, \"hovermode\": \"closest\", \"mapbox\": {\"style\": \"dark\"}, \"paper_bgcolor\": \"rgb(17,17,17)\", \"plot_bgcolor\": \"rgb(17,17,17)\", \"polar\": {\"angularaxis\": {\"gridcolor\": \"#506784\", \"linecolor\": \"#506784\", \"ticks\": \"\"}, \"bgcolor\": \"rgb(17,17,17)\", \"radialaxis\": {\"gridcolor\": \"#506784\", \"linecolor\": \"#506784\", \"ticks\": \"\"}}, \"scene\": {\"xaxis\": {\"backgroundcolor\": \"rgb(17,17,17)\", \"gridcolor\": \"#506784\", \"gridwidth\": 2, \"linecolor\": \"#506784\", \"showbackground\": true, \"ticks\": \"\", \"zerolinecolor\": \"#C8D4E3\"}, \"yaxis\": {\"backgroundcolor\": \"rgb(17,17,17)\", \"gridcolor\": \"#506784\", \"gridwidth\": 2, \"linecolor\": \"#506784\", \"showbackground\": true, \"ticks\": \"\", \"zerolinecolor\": \"#C8D4E3\"}, \"zaxis\": {\"backgroundcolor\": \"rgb(17,17,17)\", \"gridcolor\": \"#506784\", \"gridwidth\": 2, \"linecolor\": \"#506784\", \"showbackground\": true, \"ticks\": \"\", \"zerolinecolor\": \"#C8D4E3\"}}, \"shapedefaults\": {\"line\": {\"color\": \"#f2f5fa\"}}, \"sliderdefaults\": {\"bgcolor\": \"#C8D4E3\", \"bordercolor\": \"rgb(17,17,17)\", \"borderwidth\": 1, \"tickwidth\": 0}, \"ternary\": {\"aaxis\": {\"gridcolor\": \"#506784\", \"linecolor\": \"#506784\", \"ticks\": \"\"}, \"baxis\": {\"gridcolor\": \"#506784\", \"linecolor\": \"#506784\", \"ticks\": \"\"}, \"bgcolor\": \"rgb(17,17,17)\", \"caxis\": {\"gridcolor\": \"#506784\", \"linecolor\": \"#506784\", \"ticks\": \"\"}}, \"title\": {\"x\": 0.05}, \"updatemenudefaults\": {\"bgcolor\": \"#506784\", \"borderwidth\": 0}, \"xaxis\": {\"automargin\": true, \"gridcolor\": \"#283442\", \"linecolor\": \"#506784\", \"ticks\": \"\", \"title\": {\"standoff\": 15}, \"zerolinecolor\": \"#283442\", \"zerolinewidth\": 2}, \"yaxis\": {\"automargin\": true, \"gridcolor\": \"#283442\", \"linecolor\": \"#506784\", \"ticks\": \"\", \"title\": {\"standoff\": 15}, \"zerolinecolor\": \"#283442\", \"zerolinewidth\": 2}}}, \"title\": {\"text\": \"Retweets and Likes Over Time\"}, \"xaxis\": {\"anchor\": \"y\", \"domain\": [0.0, 1.0]}, \"xaxis2\": {\"anchor\": \"y2\", \"domain\": [0.0, 1.0], \"title\": {\"text\": \"Date\"}}, \"yaxis\": {\"anchor\": \"x\", \"domain\": [0.575, 1.0], \"title\": {\"text\": \"Likes\"}}, \"yaxis2\": {\"anchor\": \"x2\", \"domain\": [0.0, 0.425], \"title\": {\"text\": \"Retweets\"}}},\n",
       "                        {\"responsive\": true}\n",
       "                    ).then(function(){\n",
       "                            \n",
       "var gd = document.getElementById('605fae89-57bc-4ffd-9905-1ce888e02853');\n",
       "var x = new MutationObserver(function (mutations, observer) {{\n",
       "        var display = window.getComputedStyle(gd).display;\n",
       "        if (!display || display === 'none') {{\n",
       "            console.log([gd, 'removed!']);\n",
       "            Plotly.purge(gd);\n",
       "            observer.disconnect();\n",
       "        }}\n",
       "}});\n",
       "\n",
       "// Listen for the removal of the full notebook cells\n",
       "var notebookContainer = gd.closest('#notebook-container');\n",
       "if (notebookContainer) {{\n",
       "    x.observe(notebookContainer, {childList: true});\n",
       "}}\n",
       "\n",
       "// Listen for the clearing of the current output cell\n",
       "var outputEl = gd.closest('.output');\n",
       "if (outputEl) {{\n",
       "    x.observe(outputEl, {childList: true});\n",
       "}}\n",
       "\n",
       "                        })\n",
       "                };\n",
       "                });\n",
       "            </script>\n",
       "        </div>"
      ]
     },
     "metadata": {},
     "output_type": "display_data"
    }
   ],
   "source": [
    "## 2nd figure\n",
    "foo = sb.make_subplots(rows = 2)\n",
    "\n",
    "fig1 = foo.add_scatter(x= data['Date'], y =data['Likes'],row =1,col = 1,\n",
    "                        hoverinfo = \"name+x+y\", name = \"Likes\",marker=dict(size=5, color=\"goldenrod\"))\n",
    "\n",
    "fig1 = fig1.add_scatter( x= data['Date'], y =data['Retweets'],row = 2,\n",
    "                        col = 1, hoverinfo = \"name+x+y\", name = \"Retweets\", \n",
    "                        marker=dict(size=5, color=\"darkseagreen\"))\n",
    "\n",
    "## Formatting\n",
    "fig1.update_yaxes(title_text=\"Likes\", row=1, col=1)\n",
    "fig1.update_yaxes(title_text=\"Retweets\", row=2, col=1)\n",
    "fig1.update_xaxes(title_text=\"Date\", row=2, col=1)\n",
    "fig1.update_traces(mode=\"markers+lines\",hovertemplate=None)\n",
    "fig1.update_layout(title_text = \"Retweets and Likes Over Time\", hovermode = 'x',template=\"plotly_dark\")"
   ]
  },
  {
   "cell_type": "code",
   "execution_count": 27,
   "metadata": {},
   "outputs": [
    {
     "data": {
      "application/vnd.plotly.v1+json": {
       "config": {
        "plotlyServerURL": "https://plot.ly"
       },
       "data": [
        {
         "legendgroup": "Negative",
         "marker": {
          "color": "green",
          "symbol": "circle"
         },
         "mode": "markers",
         "name": "Negative",
         "showlegend": true,
         "type": "scatter",
         "x": [
          "2020-05-20T09:13:46",
          "2020-05-20T09:44:06",
          "2020-05-20T11:45:05",
          "2020-05-20T14:10:03",
          "2020-05-20T14:30:06",
          "2020-05-20T15:00:17",
          "2020-05-20T15:20:05",
          "2020-05-20T16:30:07",
          "2020-05-20T16:40:04",
          "2020-05-20T17:10:02",
          "2020-05-20T17:51:02",
          "2020-05-20T19:40:12",
          "2020-05-20T19:56:28",
          "2020-05-20T20:11:35",
          "2020-05-20T20:27:28",
          "2020-05-20T22:38:10",
          "2020-05-20T22:51:07",
          "2020-05-20T23:37:20",
          "2020-05-21T00:30:11",
          "2020-05-21T01:08:04",
          "2020-05-21T01:35:27",
          "2020-05-21T01:36:40",
          "2020-05-21T01:52:12",
          "2020-05-21T02:01:00",
          "2020-05-21T02:19:02",
          "2020-05-21T02:40:31",
          "2020-05-21T03:16:04",
          "2020-05-21T05:50:02",
          "2020-05-21T07:10:07",
          "2020-05-21T07:25:06",
          "2020-05-21T09:25:03",
          "2020-05-21T11:30:06",
          "2020-05-21T12:00:08",
          "2020-05-21T13:26:51",
          "2020-05-21T15:10:05",
          "2020-05-21T15:30:03",
          "2020-05-21T15:52:13",
          "2020-05-21T16:30:07",
          "2020-05-21T16:40:09",
          "2020-05-21T17:44:48"
         ],
         "xaxis": "x",
         "y": [
          -1,
          -1,
          -1,
          -1,
          -1,
          -1,
          -1,
          -1,
          -1,
          -1,
          -1,
          -1,
          -1,
          -1,
          -1,
          -1,
          -1,
          -1,
          -1,
          -1,
          -1,
          -1,
          -1,
          -1,
          -1,
          -1,
          -1,
          -1,
          -1,
          -1,
          -1,
          -1,
          -1,
          -1,
          -1,
          -1,
          -1,
          -1,
          -1,
          -1
         ],
         "yaxis": "y"
        },
        {
         "alignmentgroup": "True",
         "bingroup": "y",
         "legendgroup": "Negative",
         "marker": {
          "color": "green"
         },
         "name": "Negative",
         "offsetgroup": "Negative",
         "opacity": 0.5,
         "showlegend": false,
         "type": "histogram",
         "xaxis": "x2",
         "y": [
          -1,
          -1,
          -1,
          -1,
          -1,
          -1,
          -1,
          -1,
          -1,
          -1,
          -1,
          -1,
          -1,
          -1,
          -1,
          -1,
          -1,
          -1,
          -1,
          -1,
          -1,
          -1,
          -1,
          -1,
          -1,
          -1,
          -1,
          -1,
          -1,
          -1,
          -1,
          -1,
          -1,
          -1,
          -1,
          -1,
          -1,
          -1,
          -1,
          -1
         ],
         "yaxis": "y2"
        },
        {
         "legendgroup": "Positive",
         "marker": {
          "color": "blue",
          "symbol": "circle"
         },
         "mode": "markers",
         "name": "Positive",
         "showlegend": true,
         "type": "scatter",
         "x": [
          "2020-05-20T09:29:08",
          "2020-05-20T10:25:55",
          "2020-05-20T10:33:17",
          "2020-05-20T10:51:37",
          "2020-05-20T12:00:01",
          "2020-05-20T12:45:00",
          "2020-05-20T13:00:15",
          "2020-05-20T13:10:06",
          "2020-05-20T13:20:06",
          "2020-05-20T13:50:07",
          "2020-05-20T14:00:07",
          "2020-05-20T14:20:03",
          "2020-05-20T15:10:06",
          "2020-05-20T15:30:07",
          "2020-05-20T15:40:08",
          "2020-05-20T16:00:08",
          "2020-05-20T16:10:06",
          "2020-05-20T16:50:03",
          "2020-05-20T18:40:10",
          "2020-05-20T18:50:03",
          "2020-05-20T20:26:49",
          "2020-05-20T20:26:51",
          "2020-05-20T21:29:58",
          "2020-05-20T22:07:53",
          "2020-05-20T22:23:00",
          "2020-05-20T23:00:47",
          "2020-05-20T23:55:06",
          "2020-05-21T00:04:53",
          "2020-05-21T00:16:26",
          "2020-05-21T00:43:33",
          "2020-05-21T01:17:58",
          "2020-05-21T01:25:42",
          "2020-05-21T01:34:44",
          "2020-05-21T01:37:04",
          "2020-05-21T01:39:50",
          "2020-05-21T01:43:23",
          "2020-05-21T01:46:40",
          "2020-05-21T01:48:51",
          "2020-05-21T01:56:18",
          "2020-05-21T01:59:20",
          "2020-05-21T02:11:00",
          "2020-05-21T02:11:06",
          "2020-05-21T02:12:02",
          "2020-05-21T02:21:00",
          "2020-05-21T02:29:54",
          "2020-05-21T02:35:58",
          "2020-05-21T02:41:00",
          "2020-05-21T02:51:27",
          "2020-05-21T03:01:00",
          "2020-05-21T03:01:07",
          "2020-05-21T03:04:05",
          "2020-05-21T03:08:05",
          "2020-05-21T03:08:06",
          "2020-05-21T03:09:06",
          "2020-05-21T03:12:06",
          "2020-05-21T03:12:07",
          "2020-05-21T03:15:05",
          "2020-05-21T03:53:34",
          "2020-05-21T04:35:56",
          "2020-05-21T04:45:01",
          "2020-05-21T04:57:37",
          "2020-05-21T05:20:02",
          "2020-05-21T05:35:07",
          "2020-05-21T06:00:58",
          "2020-05-21T06:25:03",
          "2020-05-21T06:55:07",
          "2020-05-21T08:03:43",
          "2020-05-21T08:31:58",
          "2020-05-21T09:15:10",
          "2020-05-21T10:45:09",
          "2020-05-21T11:00:13",
          "2020-05-21T11:15:05",
          "2020-05-21T12:13:48",
          "2020-05-21T12:30:09",
          "2020-05-21T12:45:10",
          "2020-05-21T12:50:02",
          "2020-05-21T13:00:04",
          "2020-05-21T13:40:07",
          "2020-05-21T13:51:07",
          "2020-05-21T14:10:08",
          "2020-05-21T14:20:00",
          "2020-05-21T14:30:06",
          "2020-05-21T15:00:07",
          "2020-05-21T15:20:01",
          "2020-05-21T15:40:48",
          "2020-05-21T16:00:07",
          "2020-05-21T16:10:04",
          "2020-05-21T16:20:09",
          "2020-05-21T16:50:06",
          "2020-05-21T17:00:19",
          "2020-05-21T17:20:05",
          "2020-05-21T17:50:01"
         ],
         "xaxis": "x",
         "y": [
          1,
          1,
          1,
          1,
          1,
          1,
          1,
          1,
          1,
          1,
          1,
          1,
          1,
          1,
          1,
          1,
          1,
          1,
          1,
          1,
          1,
          1,
          1,
          1,
          1,
          1,
          1,
          1,
          1,
          1,
          1,
          1,
          1,
          1,
          1,
          1,
          1,
          1,
          1,
          1,
          1,
          1,
          1,
          1,
          1,
          1,
          1,
          1,
          1,
          1,
          1,
          1,
          1,
          1,
          1,
          1,
          1,
          1,
          1,
          1,
          1,
          1,
          1,
          1,
          1,
          1,
          1,
          1,
          1,
          1,
          1,
          1,
          1,
          1,
          1,
          1,
          1,
          1,
          1,
          1,
          1,
          1,
          1,
          1,
          1,
          1,
          1,
          1,
          1,
          1,
          1,
          1
         ],
         "yaxis": "y"
        },
        {
         "alignmentgroup": "True",
         "bingroup": "y",
         "legendgroup": "Positive",
         "marker": {
          "color": "blue"
         },
         "name": "Positive",
         "offsetgroup": "Positive",
         "opacity": 0.5,
         "showlegend": false,
         "type": "histogram",
         "xaxis": "x2",
         "y": [
          1,
          1,
          1,
          1,
          1,
          1,
          1,
          1,
          1,
          1,
          1,
          1,
          1,
          1,
          1,
          1,
          1,
          1,
          1,
          1,
          1,
          1,
          1,
          1,
          1,
          1,
          1,
          1,
          1,
          1,
          1,
          1,
          1,
          1,
          1,
          1,
          1,
          1,
          1,
          1,
          1,
          1,
          1,
          1,
          1,
          1,
          1,
          1,
          1,
          1,
          1,
          1,
          1,
          1,
          1,
          1,
          1,
          1,
          1,
          1,
          1,
          1,
          1,
          1,
          1,
          1,
          1,
          1,
          1,
          1,
          1,
          1,
          1,
          1,
          1,
          1,
          1,
          1,
          1,
          1,
          1,
          1,
          1,
          1,
          1,
          1,
          1,
          1,
          1,
          1,
          1,
          1
         ],
         "yaxis": "y2"
        },
        {
         "legendgroup": "Nuetral",
         "marker": {
          "color": "red",
          "symbol": "circle"
         },
         "mode": "markers",
         "name": "Nuetral",
         "showlegend": true,
         "type": "scatter",
         "x": [
          "2020-05-20T09:35:03",
          "2020-05-20T10:08:02",
          "2020-05-20T10:56:24",
          "2020-05-20T11:03:05",
          "2020-05-20T11:15:05",
          "2020-05-20T11:30:05",
          "2020-05-20T12:15:04",
          "2020-05-20T12:30:06",
          "2020-05-20T13:30:12",
          "2020-05-20T13:40:06",
          "2020-05-20T14:40:06",
          "2020-05-20T14:50:06",
          "2020-05-20T15:50:09",
          "2020-05-20T17:00:12",
          "2020-05-20T17:20:06",
          "2020-05-20T17:30:09",
          "2020-05-20T17:40:03",
          "2020-05-20T18:00:03",
          "2020-05-20T18:10:09",
          "2020-05-20T18:20:05",
          "2020-05-20T18:30:05",
          "2020-05-20T19:01:07",
          "2020-05-20T19:19:07",
          "2020-05-20T21:14:44",
          "2020-05-20T21:45:47",
          "2020-05-20T21:50:38",
          "2020-05-20T23:18:55",
          "2020-05-21T00:18:40",
          "2020-05-21T00:57:02",
          "2020-05-21T01:35:48",
          "2020-05-21T01:49:47",
          "2020-05-21T01:51:00",
          "2020-05-21T01:55:52",
          "2020-05-21T02:02:03",
          "2020-05-21T02:06:07",
          "2020-05-21T02:31:00",
          "2020-05-21T03:03:06",
          "2020-05-21T03:05:01",
          "2020-05-21T03:11:00",
          "2020-05-21T03:15:05",
          "2020-05-21T03:19:02",
          "2020-05-21T03:20:04",
          "2020-05-21T03:20:04",
          "2020-05-21T03:21:04",
          "2020-05-21T03:35:16",
          "2020-05-21T04:01:09",
          "2020-05-21T04:11:06",
          "2020-05-21T04:25:02",
          "2020-05-21T05:06:47",
          "2020-05-21T06:10:12",
          "2020-05-21T06:36:14",
          "2020-05-21T06:40:05",
          "2020-05-21T07:50:02",
          "2020-05-21T08:50:10",
          "2020-05-21T09:57:54",
          "2020-05-21T09:59:05",
          "2020-05-21T10:20:03",
          "2020-05-21T10:37:45",
          "2020-05-21T11:45:04",
          "2020-05-21T12:15:06",
          "2020-05-21T13:16:34",
          "2020-05-21T13:17:17",
          "2020-05-21T14:02:33",
          "2020-05-21T14:40:07",
          "2020-05-21T14:42:23",
          "2020-05-21T14:50:07",
          "2020-05-21T16:39:34",
          "2020-05-21T17:10:06"
         ],
         "xaxis": "x",
         "y": [
          0,
          0,
          0,
          0,
          0,
          0,
          0,
          0,
          0,
          0,
          0,
          0,
          0,
          0,
          0,
          0,
          0,
          0,
          0,
          0,
          0,
          0,
          0,
          0,
          0,
          0,
          0,
          0,
          0,
          0,
          0,
          0,
          0,
          0,
          0,
          0,
          0,
          0,
          0,
          0,
          0,
          0,
          0,
          0,
          0,
          0,
          0,
          0,
          0,
          0,
          0,
          0,
          0,
          0,
          0,
          0,
          0,
          0,
          0,
          0,
          0,
          0,
          0,
          0,
          0,
          0,
          0,
          0
         ],
         "yaxis": "y"
        },
        {
         "alignmentgroup": "True",
         "bingroup": "y",
         "legendgroup": "Nuetral",
         "marker": {
          "color": "red"
         },
         "name": "Nuetral",
         "offsetgroup": "Nuetral",
         "opacity": 0.5,
         "showlegend": false,
         "type": "histogram",
         "xaxis": "x2",
         "y": [
          0,
          0,
          0,
          0,
          0,
          0,
          0,
          0,
          0,
          0,
          0,
          0,
          0,
          0,
          0,
          0,
          0,
          0,
          0,
          0,
          0,
          0,
          0,
          0,
          0,
          0,
          0,
          0,
          0,
          0,
          0,
          0,
          0,
          0,
          0,
          0,
          0,
          0,
          0,
          0,
          0,
          0,
          0,
          0,
          0,
          0,
          0,
          0,
          0,
          0,
          0,
          0,
          0,
          0,
          0,
          0,
          0,
          0,
          0,
          0,
          0,
          0,
          0,
          0,
          0,
          0,
          0,
          0
         ],
         "yaxis": "y2"
        }
       ],
       "layout": {
        "barmode": "overlay",
        "legend": {
         "title": {
          "text": "Sentiment"
         },
         "tracegroupgap": 0
        },
        "template": {
         "data": {
          "bar": [
           {
            "error_x": {
             "color": "#f2f5fa"
            },
            "error_y": {
             "color": "#f2f5fa"
            },
            "marker": {
             "line": {
              "color": "rgb(17,17,17)",
              "width": 0.5
             }
            },
            "type": "bar"
           }
          ],
          "barpolar": [
           {
            "marker": {
             "line": {
              "color": "rgb(17,17,17)",
              "width": 0.5
             }
            },
            "type": "barpolar"
           }
          ],
          "carpet": [
           {
            "aaxis": {
             "endlinecolor": "#A2B1C6",
             "gridcolor": "#506784",
             "linecolor": "#506784",
             "minorgridcolor": "#506784",
             "startlinecolor": "#A2B1C6"
            },
            "baxis": {
             "endlinecolor": "#A2B1C6",
             "gridcolor": "#506784",
             "linecolor": "#506784",
             "minorgridcolor": "#506784",
             "startlinecolor": "#A2B1C6"
            },
            "type": "carpet"
           }
          ],
          "choropleth": [
           {
            "colorbar": {
             "outlinewidth": 0,
             "ticks": ""
            },
            "type": "choropleth"
           }
          ],
          "contour": [
           {
            "colorbar": {
             "outlinewidth": 0,
             "ticks": ""
            },
            "colorscale": [
             [
              0,
              "#0d0887"
             ],
             [
              0.1111111111111111,
              "#46039f"
             ],
             [
              0.2222222222222222,
              "#7201a8"
             ],
             [
              0.3333333333333333,
              "#9c179e"
             ],
             [
              0.4444444444444444,
              "#bd3786"
             ],
             [
              0.5555555555555556,
              "#d8576b"
             ],
             [
              0.6666666666666666,
              "#ed7953"
             ],
             [
              0.7777777777777778,
              "#fb9f3a"
             ],
             [
              0.8888888888888888,
              "#fdca26"
             ],
             [
              1,
              "#f0f921"
             ]
            ],
            "type": "contour"
           }
          ],
          "contourcarpet": [
           {
            "colorbar": {
             "outlinewidth": 0,
             "ticks": ""
            },
            "type": "contourcarpet"
           }
          ],
          "heatmap": [
           {
            "colorbar": {
             "outlinewidth": 0,
             "ticks": ""
            },
            "colorscale": [
             [
              0,
              "#0d0887"
             ],
             [
              0.1111111111111111,
              "#46039f"
             ],
             [
              0.2222222222222222,
              "#7201a8"
             ],
             [
              0.3333333333333333,
              "#9c179e"
             ],
             [
              0.4444444444444444,
              "#bd3786"
             ],
             [
              0.5555555555555556,
              "#d8576b"
             ],
             [
              0.6666666666666666,
              "#ed7953"
             ],
             [
              0.7777777777777778,
              "#fb9f3a"
             ],
             [
              0.8888888888888888,
              "#fdca26"
             ],
             [
              1,
              "#f0f921"
             ]
            ],
            "type": "heatmap"
           }
          ],
          "heatmapgl": [
           {
            "colorbar": {
             "outlinewidth": 0,
             "ticks": ""
            },
            "colorscale": [
             [
              0,
              "#0d0887"
             ],
             [
              0.1111111111111111,
              "#46039f"
             ],
             [
              0.2222222222222222,
              "#7201a8"
             ],
             [
              0.3333333333333333,
              "#9c179e"
             ],
             [
              0.4444444444444444,
              "#bd3786"
             ],
             [
              0.5555555555555556,
              "#d8576b"
             ],
             [
              0.6666666666666666,
              "#ed7953"
             ],
             [
              0.7777777777777778,
              "#fb9f3a"
             ],
             [
              0.8888888888888888,
              "#fdca26"
             ],
             [
              1,
              "#f0f921"
             ]
            ],
            "type": "heatmapgl"
           }
          ],
          "histogram": [
           {
            "marker": {
             "colorbar": {
              "outlinewidth": 0,
              "ticks": ""
             }
            },
            "type": "histogram"
           }
          ],
          "histogram2d": [
           {
            "colorbar": {
             "outlinewidth": 0,
             "ticks": ""
            },
            "colorscale": [
             [
              0,
              "#0d0887"
             ],
             [
              0.1111111111111111,
              "#46039f"
             ],
             [
              0.2222222222222222,
              "#7201a8"
             ],
             [
              0.3333333333333333,
              "#9c179e"
             ],
             [
              0.4444444444444444,
              "#bd3786"
             ],
             [
              0.5555555555555556,
              "#d8576b"
             ],
             [
              0.6666666666666666,
              "#ed7953"
             ],
             [
              0.7777777777777778,
              "#fb9f3a"
             ],
             [
              0.8888888888888888,
              "#fdca26"
             ],
             [
              1,
              "#f0f921"
             ]
            ],
            "type": "histogram2d"
           }
          ],
          "histogram2dcontour": [
           {
            "colorbar": {
             "outlinewidth": 0,
             "ticks": ""
            },
            "colorscale": [
             [
              0,
              "#0d0887"
             ],
             [
              0.1111111111111111,
              "#46039f"
             ],
             [
              0.2222222222222222,
              "#7201a8"
             ],
             [
              0.3333333333333333,
              "#9c179e"
             ],
             [
              0.4444444444444444,
              "#bd3786"
             ],
             [
              0.5555555555555556,
              "#d8576b"
             ],
             [
              0.6666666666666666,
              "#ed7953"
             ],
             [
              0.7777777777777778,
              "#fb9f3a"
             ],
             [
              0.8888888888888888,
              "#fdca26"
             ],
             [
              1,
              "#f0f921"
             ]
            ],
            "type": "histogram2dcontour"
           }
          ],
          "mesh3d": [
           {
            "colorbar": {
             "outlinewidth": 0,
             "ticks": ""
            },
            "type": "mesh3d"
           }
          ],
          "parcoords": [
           {
            "line": {
             "colorbar": {
              "outlinewidth": 0,
              "ticks": ""
             }
            },
            "type": "parcoords"
           }
          ],
          "pie": [
           {
            "automargin": true,
            "type": "pie"
           }
          ],
          "scatter": [
           {
            "marker": {
             "line": {
              "color": "#283442"
             }
            },
            "type": "scatter"
           }
          ],
          "scatter3d": [
           {
            "line": {
             "colorbar": {
              "outlinewidth": 0,
              "ticks": ""
             }
            },
            "marker": {
             "colorbar": {
              "outlinewidth": 0,
              "ticks": ""
             }
            },
            "type": "scatter3d"
           }
          ],
          "scattercarpet": [
           {
            "marker": {
             "colorbar": {
              "outlinewidth": 0,
              "ticks": ""
             }
            },
            "type": "scattercarpet"
           }
          ],
          "scattergeo": [
           {
            "marker": {
             "colorbar": {
              "outlinewidth": 0,
              "ticks": ""
             }
            },
            "type": "scattergeo"
           }
          ],
          "scattergl": [
           {
            "marker": {
             "line": {
              "color": "#283442"
             }
            },
            "type": "scattergl"
           }
          ],
          "scattermapbox": [
           {
            "marker": {
             "colorbar": {
              "outlinewidth": 0,
              "ticks": ""
             }
            },
            "type": "scattermapbox"
           }
          ],
          "scatterpolar": [
           {
            "marker": {
             "colorbar": {
              "outlinewidth": 0,
              "ticks": ""
             }
            },
            "type": "scatterpolar"
           }
          ],
          "scatterpolargl": [
           {
            "marker": {
             "colorbar": {
              "outlinewidth": 0,
              "ticks": ""
             }
            },
            "type": "scatterpolargl"
           }
          ],
          "scatterternary": [
           {
            "marker": {
             "colorbar": {
              "outlinewidth": 0,
              "ticks": ""
             }
            },
            "type": "scatterternary"
           }
          ],
          "surface": [
           {
            "colorbar": {
             "outlinewidth": 0,
             "ticks": ""
            },
            "colorscale": [
             [
              0,
              "#0d0887"
             ],
             [
              0.1111111111111111,
              "#46039f"
             ],
             [
              0.2222222222222222,
              "#7201a8"
             ],
             [
              0.3333333333333333,
              "#9c179e"
             ],
             [
              0.4444444444444444,
              "#bd3786"
             ],
             [
              0.5555555555555556,
              "#d8576b"
             ],
             [
              0.6666666666666666,
              "#ed7953"
             ],
             [
              0.7777777777777778,
              "#fb9f3a"
             ],
             [
              0.8888888888888888,
              "#fdca26"
             ],
             [
              1,
              "#f0f921"
             ]
            ],
            "type": "surface"
           }
          ],
          "table": [
           {
            "cells": {
             "fill": {
              "color": "#506784"
             },
             "line": {
              "color": "rgb(17,17,17)"
             }
            },
            "header": {
             "fill": {
              "color": "#2a3f5f"
             },
             "line": {
              "color": "rgb(17,17,17)"
             }
            },
            "type": "table"
           }
          ]
         },
         "layout": {
          "annotationdefaults": {
           "arrowcolor": "#f2f5fa",
           "arrowhead": 0,
           "arrowwidth": 1
          },
          "coloraxis": {
           "colorbar": {
            "outlinewidth": 0,
            "ticks": ""
           }
          },
          "colorscale": {
           "diverging": [
            [
             0,
             "#8e0152"
            ],
            [
             0.1,
             "#c51b7d"
            ],
            [
             0.2,
             "#de77ae"
            ],
            [
             0.3,
             "#f1b6da"
            ],
            [
             0.4,
             "#fde0ef"
            ],
            [
             0.5,
             "#f7f7f7"
            ],
            [
             0.6,
             "#e6f5d0"
            ],
            [
             0.7,
             "#b8e186"
            ],
            [
             0.8,
             "#7fbc41"
            ],
            [
             0.9,
             "#4d9221"
            ],
            [
             1,
             "#276419"
            ]
           ],
           "sequential": [
            [
             0,
             "#0d0887"
            ],
            [
             0.1111111111111111,
             "#46039f"
            ],
            [
             0.2222222222222222,
             "#7201a8"
            ],
            [
             0.3333333333333333,
             "#9c179e"
            ],
            [
             0.4444444444444444,
             "#bd3786"
            ],
            [
             0.5555555555555556,
             "#d8576b"
            ],
            [
             0.6666666666666666,
             "#ed7953"
            ],
            [
             0.7777777777777778,
             "#fb9f3a"
            ],
            [
             0.8888888888888888,
             "#fdca26"
            ],
            [
             1,
             "#f0f921"
            ]
           ],
           "sequentialminus": [
            [
             0,
             "#0d0887"
            ],
            [
             0.1111111111111111,
             "#46039f"
            ],
            [
             0.2222222222222222,
             "#7201a8"
            ],
            [
             0.3333333333333333,
             "#9c179e"
            ],
            [
             0.4444444444444444,
             "#bd3786"
            ],
            [
             0.5555555555555556,
             "#d8576b"
            ],
            [
             0.6666666666666666,
             "#ed7953"
            ],
            [
             0.7777777777777778,
             "#fb9f3a"
            ],
            [
             0.8888888888888888,
             "#fdca26"
            ],
            [
             1,
             "#f0f921"
            ]
           ]
          },
          "colorway": [
           "#636efa",
           "#EF553B",
           "#00cc96",
           "#ab63fa",
           "#FFA15A",
           "#19d3f3",
           "#FF6692",
           "#B6E880",
           "#FF97FF",
           "#FECB52"
          ],
          "font": {
           "color": "#f2f5fa"
          },
          "geo": {
           "bgcolor": "rgb(17,17,17)",
           "lakecolor": "rgb(17,17,17)",
           "landcolor": "rgb(17,17,17)",
           "showlakes": true,
           "showland": true,
           "subunitcolor": "#506784"
          },
          "hoverlabel": {
           "align": "left"
          },
          "hovermode": "closest",
          "mapbox": {
           "style": "dark"
          },
          "paper_bgcolor": "rgb(17,17,17)",
          "plot_bgcolor": "rgb(17,17,17)",
          "polar": {
           "angularaxis": {
            "gridcolor": "#506784",
            "linecolor": "#506784",
            "ticks": ""
           },
           "bgcolor": "rgb(17,17,17)",
           "radialaxis": {
            "gridcolor": "#506784",
            "linecolor": "#506784",
            "ticks": ""
           }
          },
          "scene": {
           "xaxis": {
            "backgroundcolor": "rgb(17,17,17)",
            "gridcolor": "#506784",
            "gridwidth": 2,
            "linecolor": "#506784",
            "showbackground": true,
            "ticks": "",
            "zerolinecolor": "#C8D4E3"
           },
           "yaxis": {
            "backgroundcolor": "rgb(17,17,17)",
            "gridcolor": "#506784",
            "gridwidth": 2,
            "linecolor": "#506784",
            "showbackground": true,
            "ticks": "",
            "zerolinecolor": "#C8D4E3"
           },
           "zaxis": {
            "backgroundcolor": "rgb(17,17,17)",
            "gridcolor": "#506784",
            "gridwidth": 2,
            "linecolor": "#506784",
            "showbackground": true,
            "ticks": "",
            "zerolinecolor": "#C8D4E3"
           }
          },
          "shapedefaults": {
           "line": {
            "color": "#f2f5fa"
           }
          },
          "sliderdefaults": {
           "bgcolor": "#C8D4E3",
           "bordercolor": "rgb(17,17,17)",
           "borderwidth": 1,
           "tickwidth": 0
          },
          "ternary": {
           "aaxis": {
            "gridcolor": "#506784",
            "linecolor": "#506784",
            "ticks": ""
           },
           "baxis": {
            "gridcolor": "#506784",
            "linecolor": "#506784",
            "ticks": ""
           },
           "bgcolor": "rgb(17,17,17)",
           "caxis": {
            "gridcolor": "#506784",
            "linecolor": "#506784",
            "ticks": ""
           }
          },
          "title": {
           "x": 0.05
          },
          "updatemenudefaults": {
           "bgcolor": "#506784",
           "borderwidth": 0
          },
          "xaxis": {
           "automargin": true,
           "gridcolor": "#283442",
           "linecolor": "#506784",
           "ticks": "",
           "title": {
            "standoff": 15
           },
           "zerolinecolor": "#283442",
           "zerolinewidth": 2
          },
          "yaxis": {
           "automargin": true,
           "gridcolor": "#283442",
           "linecolor": "#506784",
           "ticks": "",
           "title": {
            "standoff": 15
           },
           "zerolinecolor": "#283442",
           "zerolinewidth": 2
          }
         }
        },
        "title": {
         "text": "Sentiment Over Time"
        },
        "xaxis": {
         "anchor": "y",
         "domain": [
          0,
          0.7363
         ],
         "title": {
          "text": "Date"
         }
        },
        "xaxis2": {
         "anchor": "y2",
         "domain": [
          0.7413,
          1
         ],
         "matches": "x2",
         "showgrid": true,
         "showline": false,
         "showticklabels": false,
         "ticks": ""
        },
        "yaxis": {
         "anchor": "x",
         "domain": [
          0,
          1
         ],
         "title": {
          "text": "Sentiment"
         }
        },
        "yaxis2": {
         "anchor": "x2",
         "domain": [
          0,
          1
         ],
         "matches": "y",
         "showgrid": true,
         "showticklabels": false
        }
       }
      },
      "text/html": [
       "<div>\n",
       "        \n",
       "        \n",
       "            <div id=\"d14f3ed5-6b28-400f-8df5-f0f08bf26f64\" class=\"plotly-graph-div\" style=\"height:525px; width:100%;\"></div>\n",
       "            <script type=\"text/javascript\">\n",
       "                require([\"plotly\"], function(Plotly) {\n",
       "                    window.PLOTLYENV=window.PLOTLYENV || {};\n",
       "                    \n",
       "                if (document.getElementById(\"d14f3ed5-6b28-400f-8df5-f0f08bf26f64\")) {\n",
       "                    Plotly.newPlot(\n",
       "                        'd14f3ed5-6b28-400f-8df5-f0f08bf26f64',\n",
       "                        [{\"legendgroup\": \"Negative\", \"marker\": {\"color\": \"green\", \"symbol\": \"circle\"}, \"mode\": \"markers\", \"name\": \"Negative\", \"showlegend\": true, \"type\": \"scatter\", \"x\": [\"2020-05-20T09:13:46\", \"2020-05-20T09:44:06\", \"2020-05-20T11:45:05\", \"2020-05-20T14:10:03\", \"2020-05-20T14:30:06\", \"2020-05-20T15:00:17\", \"2020-05-20T15:20:05\", \"2020-05-20T16:30:07\", \"2020-05-20T16:40:04\", \"2020-05-20T17:10:02\", \"2020-05-20T17:51:02\", \"2020-05-20T19:40:12\", \"2020-05-20T19:56:28\", \"2020-05-20T20:11:35\", \"2020-05-20T20:27:28\", \"2020-05-20T22:38:10\", \"2020-05-20T22:51:07\", \"2020-05-20T23:37:20\", \"2020-05-21T00:30:11\", \"2020-05-21T01:08:04\", \"2020-05-21T01:35:27\", \"2020-05-21T01:36:40\", \"2020-05-21T01:52:12\", \"2020-05-21T02:01:00\", \"2020-05-21T02:19:02\", \"2020-05-21T02:40:31\", \"2020-05-21T03:16:04\", \"2020-05-21T05:50:02\", \"2020-05-21T07:10:07\", \"2020-05-21T07:25:06\", \"2020-05-21T09:25:03\", \"2020-05-21T11:30:06\", \"2020-05-21T12:00:08\", \"2020-05-21T13:26:51\", \"2020-05-21T15:10:05\", \"2020-05-21T15:30:03\", \"2020-05-21T15:52:13\", \"2020-05-21T16:30:07\", \"2020-05-21T16:40:09\", \"2020-05-21T17:44:48\"], \"xaxis\": \"x\", \"y\": [-1, -1, -1, -1, -1, -1, -1, -1, -1, -1, -1, -1, -1, -1, -1, -1, -1, -1, -1, -1, -1, -1, -1, -1, -1, -1, -1, -1, -1, -1, -1, -1, -1, -1, -1, -1, -1, -1, -1, -1], \"yaxis\": \"y\"}, {\"alignmentgroup\": \"True\", \"bingroup\": \"y\", \"legendgroup\": \"Negative\", \"marker\": {\"color\": \"green\"}, \"name\": \"Negative\", \"offsetgroup\": \"Negative\", \"opacity\": 0.5, \"showlegend\": false, \"type\": \"histogram\", \"xaxis\": \"x2\", \"y\": [-1, -1, -1, -1, -1, -1, -1, -1, -1, -1, -1, -1, -1, -1, -1, -1, -1, -1, -1, -1, -1, -1, -1, -1, -1, -1, -1, -1, -1, -1, -1, -1, -1, -1, -1, -1, -1, -1, -1, -1], \"yaxis\": \"y2\"}, {\"legendgroup\": \"Positive\", \"marker\": {\"color\": \"blue\", \"symbol\": \"circle\"}, \"mode\": \"markers\", \"name\": \"Positive\", \"showlegend\": true, \"type\": \"scatter\", \"x\": [\"2020-05-20T09:29:08\", \"2020-05-20T10:25:55\", \"2020-05-20T10:33:17\", \"2020-05-20T10:51:37\", \"2020-05-20T12:00:01\", \"2020-05-20T12:45:00\", \"2020-05-20T13:00:15\", \"2020-05-20T13:10:06\", \"2020-05-20T13:20:06\", \"2020-05-20T13:50:07\", \"2020-05-20T14:00:07\", \"2020-05-20T14:20:03\", \"2020-05-20T15:10:06\", \"2020-05-20T15:30:07\", \"2020-05-20T15:40:08\", \"2020-05-20T16:00:08\", \"2020-05-20T16:10:06\", \"2020-05-20T16:50:03\", \"2020-05-20T18:40:10\", \"2020-05-20T18:50:03\", \"2020-05-20T20:26:49\", \"2020-05-20T20:26:51\", \"2020-05-20T21:29:58\", \"2020-05-20T22:07:53\", \"2020-05-20T22:23:00\", \"2020-05-20T23:00:47\", \"2020-05-20T23:55:06\", \"2020-05-21T00:04:53\", \"2020-05-21T00:16:26\", \"2020-05-21T00:43:33\", \"2020-05-21T01:17:58\", \"2020-05-21T01:25:42\", \"2020-05-21T01:34:44\", \"2020-05-21T01:37:04\", \"2020-05-21T01:39:50\", \"2020-05-21T01:43:23\", \"2020-05-21T01:46:40\", \"2020-05-21T01:48:51\", \"2020-05-21T01:56:18\", \"2020-05-21T01:59:20\", \"2020-05-21T02:11:00\", \"2020-05-21T02:11:06\", \"2020-05-21T02:12:02\", \"2020-05-21T02:21:00\", \"2020-05-21T02:29:54\", \"2020-05-21T02:35:58\", \"2020-05-21T02:41:00\", \"2020-05-21T02:51:27\", \"2020-05-21T03:01:00\", \"2020-05-21T03:01:07\", \"2020-05-21T03:04:05\", \"2020-05-21T03:08:05\", \"2020-05-21T03:08:06\", \"2020-05-21T03:09:06\", \"2020-05-21T03:12:06\", \"2020-05-21T03:12:07\", \"2020-05-21T03:15:05\", \"2020-05-21T03:53:34\", \"2020-05-21T04:35:56\", \"2020-05-21T04:45:01\", \"2020-05-21T04:57:37\", \"2020-05-21T05:20:02\", \"2020-05-21T05:35:07\", \"2020-05-21T06:00:58\", \"2020-05-21T06:25:03\", \"2020-05-21T06:55:07\", \"2020-05-21T08:03:43\", \"2020-05-21T08:31:58\", \"2020-05-21T09:15:10\", \"2020-05-21T10:45:09\", \"2020-05-21T11:00:13\", \"2020-05-21T11:15:05\", \"2020-05-21T12:13:48\", \"2020-05-21T12:30:09\", \"2020-05-21T12:45:10\", \"2020-05-21T12:50:02\", \"2020-05-21T13:00:04\", \"2020-05-21T13:40:07\", \"2020-05-21T13:51:07\", \"2020-05-21T14:10:08\", \"2020-05-21T14:20:00\", \"2020-05-21T14:30:06\", \"2020-05-21T15:00:07\", \"2020-05-21T15:20:01\", \"2020-05-21T15:40:48\", \"2020-05-21T16:00:07\", \"2020-05-21T16:10:04\", \"2020-05-21T16:20:09\", \"2020-05-21T16:50:06\", \"2020-05-21T17:00:19\", \"2020-05-21T17:20:05\", \"2020-05-21T17:50:01\"], \"xaxis\": \"x\", \"y\": [1, 1, 1, 1, 1, 1, 1, 1, 1, 1, 1, 1, 1, 1, 1, 1, 1, 1, 1, 1, 1, 1, 1, 1, 1, 1, 1, 1, 1, 1, 1, 1, 1, 1, 1, 1, 1, 1, 1, 1, 1, 1, 1, 1, 1, 1, 1, 1, 1, 1, 1, 1, 1, 1, 1, 1, 1, 1, 1, 1, 1, 1, 1, 1, 1, 1, 1, 1, 1, 1, 1, 1, 1, 1, 1, 1, 1, 1, 1, 1, 1, 1, 1, 1, 1, 1, 1, 1, 1, 1, 1, 1], \"yaxis\": \"y\"}, {\"alignmentgroup\": \"True\", \"bingroup\": \"y\", \"legendgroup\": \"Positive\", \"marker\": {\"color\": \"blue\"}, \"name\": \"Positive\", \"offsetgroup\": \"Positive\", \"opacity\": 0.5, \"showlegend\": false, \"type\": \"histogram\", \"xaxis\": \"x2\", \"y\": [1, 1, 1, 1, 1, 1, 1, 1, 1, 1, 1, 1, 1, 1, 1, 1, 1, 1, 1, 1, 1, 1, 1, 1, 1, 1, 1, 1, 1, 1, 1, 1, 1, 1, 1, 1, 1, 1, 1, 1, 1, 1, 1, 1, 1, 1, 1, 1, 1, 1, 1, 1, 1, 1, 1, 1, 1, 1, 1, 1, 1, 1, 1, 1, 1, 1, 1, 1, 1, 1, 1, 1, 1, 1, 1, 1, 1, 1, 1, 1, 1, 1, 1, 1, 1, 1, 1, 1, 1, 1, 1, 1], \"yaxis\": \"y2\"}, {\"legendgroup\": \"Nuetral\", \"marker\": {\"color\": \"red\", \"symbol\": \"circle\"}, \"mode\": \"markers\", \"name\": \"Nuetral\", \"showlegend\": true, \"type\": \"scatter\", \"x\": [\"2020-05-20T09:35:03\", \"2020-05-20T10:08:02\", \"2020-05-20T10:56:24\", \"2020-05-20T11:03:05\", \"2020-05-20T11:15:05\", \"2020-05-20T11:30:05\", \"2020-05-20T12:15:04\", \"2020-05-20T12:30:06\", \"2020-05-20T13:30:12\", \"2020-05-20T13:40:06\", \"2020-05-20T14:40:06\", \"2020-05-20T14:50:06\", \"2020-05-20T15:50:09\", \"2020-05-20T17:00:12\", \"2020-05-20T17:20:06\", \"2020-05-20T17:30:09\", \"2020-05-20T17:40:03\", \"2020-05-20T18:00:03\", \"2020-05-20T18:10:09\", \"2020-05-20T18:20:05\", \"2020-05-20T18:30:05\", \"2020-05-20T19:01:07\", \"2020-05-20T19:19:07\", \"2020-05-20T21:14:44\", \"2020-05-20T21:45:47\", \"2020-05-20T21:50:38\", \"2020-05-20T23:18:55\", \"2020-05-21T00:18:40\", \"2020-05-21T00:57:02\", \"2020-05-21T01:35:48\", \"2020-05-21T01:49:47\", \"2020-05-21T01:51:00\", \"2020-05-21T01:55:52\", \"2020-05-21T02:02:03\", \"2020-05-21T02:06:07\", \"2020-05-21T02:31:00\", \"2020-05-21T03:03:06\", \"2020-05-21T03:05:01\", \"2020-05-21T03:11:00\", \"2020-05-21T03:15:05\", \"2020-05-21T03:19:02\", \"2020-05-21T03:20:04\", \"2020-05-21T03:20:04\", \"2020-05-21T03:21:04\", \"2020-05-21T03:35:16\", \"2020-05-21T04:01:09\", \"2020-05-21T04:11:06\", \"2020-05-21T04:25:02\", \"2020-05-21T05:06:47\", \"2020-05-21T06:10:12\", \"2020-05-21T06:36:14\", \"2020-05-21T06:40:05\", \"2020-05-21T07:50:02\", \"2020-05-21T08:50:10\", \"2020-05-21T09:57:54\", \"2020-05-21T09:59:05\", \"2020-05-21T10:20:03\", \"2020-05-21T10:37:45\", \"2020-05-21T11:45:04\", \"2020-05-21T12:15:06\", \"2020-05-21T13:16:34\", \"2020-05-21T13:17:17\", \"2020-05-21T14:02:33\", \"2020-05-21T14:40:07\", \"2020-05-21T14:42:23\", \"2020-05-21T14:50:07\", \"2020-05-21T16:39:34\", \"2020-05-21T17:10:06\"], \"xaxis\": \"x\", \"y\": [0, 0, 0, 0, 0, 0, 0, 0, 0, 0, 0, 0, 0, 0, 0, 0, 0, 0, 0, 0, 0, 0, 0, 0, 0, 0, 0, 0, 0, 0, 0, 0, 0, 0, 0, 0, 0, 0, 0, 0, 0, 0, 0, 0, 0, 0, 0, 0, 0, 0, 0, 0, 0, 0, 0, 0, 0, 0, 0, 0, 0, 0, 0, 0, 0, 0, 0, 0], \"yaxis\": \"y\"}, {\"alignmentgroup\": \"True\", \"bingroup\": \"y\", \"legendgroup\": \"Nuetral\", \"marker\": {\"color\": \"red\"}, \"name\": \"Nuetral\", \"offsetgroup\": \"Nuetral\", \"opacity\": 0.5, \"showlegend\": false, \"type\": \"histogram\", \"xaxis\": \"x2\", \"y\": [0, 0, 0, 0, 0, 0, 0, 0, 0, 0, 0, 0, 0, 0, 0, 0, 0, 0, 0, 0, 0, 0, 0, 0, 0, 0, 0, 0, 0, 0, 0, 0, 0, 0, 0, 0, 0, 0, 0, 0, 0, 0, 0, 0, 0, 0, 0, 0, 0, 0, 0, 0, 0, 0, 0, 0, 0, 0, 0, 0, 0, 0, 0, 0, 0, 0, 0, 0], \"yaxis\": \"y2\"}],\n",
       "                        {\"barmode\": \"overlay\", \"legend\": {\"title\": {\"text\": \"Sentiment\"}, \"tracegroupgap\": 0}, \"template\": {\"data\": {\"bar\": [{\"error_x\": {\"color\": \"#f2f5fa\"}, \"error_y\": {\"color\": \"#f2f5fa\"}, \"marker\": {\"line\": {\"color\": \"rgb(17,17,17)\", \"width\": 0.5}}, \"type\": \"bar\"}], \"barpolar\": [{\"marker\": {\"line\": {\"color\": \"rgb(17,17,17)\", \"width\": 0.5}}, \"type\": \"barpolar\"}], \"carpet\": [{\"aaxis\": {\"endlinecolor\": \"#A2B1C6\", \"gridcolor\": \"#506784\", \"linecolor\": \"#506784\", \"minorgridcolor\": \"#506784\", \"startlinecolor\": \"#A2B1C6\"}, \"baxis\": {\"endlinecolor\": \"#A2B1C6\", \"gridcolor\": \"#506784\", \"linecolor\": \"#506784\", \"minorgridcolor\": \"#506784\", \"startlinecolor\": \"#A2B1C6\"}, \"type\": \"carpet\"}], \"choropleth\": [{\"colorbar\": {\"outlinewidth\": 0, \"ticks\": \"\"}, \"type\": \"choropleth\"}], \"contour\": [{\"colorbar\": {\"outlinewidth\": 0, \"ticks\": \"\"}, \"colorscale\": [[0.0, \"#0d0887\"], [0.1111111111111111, \"#46039f\"], [0.2222222222222222, \"#7201a8\"], [0.3333333333333333, \"#9c179e\"], [0.4444444444444444, \"#bd3786\"], [0.5555555555555556, \"#d8576b\"], [0.6666666666666666, \"#ed7953\"], [0.7777777777777778, \"#fb9f3a\"], [0.8888888888888888, \"#fdca26\"], [1.0, \"#f0f921\"]], \"type\": \"contour\"}], \"contourcarpet\": [{\"colorbar\": {\"outlinewidth\": 0, \"ticks\": \"\"}, \"type\": \"contourcarpet\"}], \"heatmap\": [{\"colorbar\": {\"outlinewidth\": 0, \"ticks\": \"\"}, \"colorscale\": [[0.0, \"#0d0887\"], [0.1111111111111111, \"#46039f\"], [0.2222222222222222, \"#7201a8\"], [0.3333333333333333, \"#9c179e\"], [0.4444444444444444, \"#bd3786\"], [0.5555555555555556, \"#d8576b\"], [0.6666666666666666, \"#ed7953\"], [0.7777777777777778, \"#fb9f3a\"], [0.8888888888888888, \"#fdca26\"], [1.0, \"#f0f921\"]], \"type\": \"heatmap\"}], \"heatmapgl\": [{\"colorbar\": {\"outlinewidth\": 0, \"ticks\": \"\"}, \"colorscale\": [[0.0, \"#0d0887\"], [0.1111111111111111, \"#46039f\"], [0.2222222222222222, \"#7201a8\"], [0.3333333333333333, \"#9c179e\"], [0.4444444444444444, \"#bd3786\"], [0.5555555555555556, \"#d8576b\"], [0.6666666666666666, \"#ed7953\"], [0.7777777777777778, \"#fb9f3a\"], [0.8888888888888888, \"#fdca26\"], [1.0, \"#f0f921\"]], \"type\": \"heatmapgl\"}], \"histogram\": [{\"marker\": {\"colorbar\": {\"outlinewidth\": 0, \"ticks\": \"\"}}, \"type\": \"histogram\"}], \"histogram2d\": [{\"colorbar\": {\"outlinewidth\": 0, \"ticks\": \"\"}, \"colorscale\": [[0.0, \"#0d0887\"], [0.1111111111111111, \"#46039f\"], [0.2222222222222222, \"#7201a8\"], [0.3333333333333333, \"#9c179e\"], [0.4444444444444444, \"#bd3786\"], [0.5555555555555556, \"#d8576b\"], [0.6666666666666666, \"#ed7953\"], [0.7777777777777778, \"#fb9f3a\"], [0.8888888888888888, \"#fdca26\"], [1.0, \"#f0f921\"]], \"type\": \"histogram2d\"}], \"histogram2dcontour\": [{\"colorbar\": {\"outlinewidth\": 0, \"ticks\": \"\"}, \"colorscale\": [[0.0, \"#0d0887\"], [0.1111111111111111, \"#46039f\"], [0.2222222222222222, \"#7201a8\"], [0.3333333333333333, \"#9c179e\"], [0.4444444444444444, \"#bd3786\"], [0.5555555555555556, \"#d8576b\"], [0.6666666666666666, \"#ed7953\"], [0.7777777777777778, \"#fb9f3a\"], [0.8888888888888888, \"#fdca26\"], [1.0, \"#f0f921\"]], \"type\": \"histogram2dcontour\"}], \"mesh3d\": [{\"colorbar\": {\"outlinewidth\": 0, \"ticks\": \"\"}, \"type\": \"mesh3d\"}], \"parcoords\": [{\"line\": {\"colorbar\": {\"outlinewidth\": 0, \"ticks\": \"\"}}, \"type\": \"parcoords\"}], \"pie\": [{\"automargin\": true, \"type\": \"pie\"}], \"scatter\": [{\"marker\": {\"line\": {\"color\": \"#283442\"}}, \"type\": \"scatter\"}], \"scatter3d\": [{\"line\": {\"colorbar\": {\"outlinewidth\": 0, \"ticks\": \"\"}}, \"marker\": {\"colorbar\": {\"outlinewidth\": 0, \"ticks\": \"\"}}, \"type\": \"scatter3d\"}], \"scattercarpet\": [{\"marker\": {\"colorbar\": {\"outlinewidth\": 0, \"ticks\": \"\"}}, \"type\": \"scattercarpet\"}], \"scattergeo\": [{\"marker\": {\"colorbar\": {\"outlinewidth\": 0, \"ticks\": \"\"}}, \"type\": \"scattergeo\"}], \"scattergl\": [{\"marker\": {\"line\": {\"color\": \"#283442\"}}, \"type\": \"scattergl\"}], \"scattermapbox\": [{\"marker\": {\"colorbar\": {\"outlinewidth\": 0, \"ticks\": \"\"}}, \"type\": \"scattermapbox\"}], \"scatterpolar\": [{\"marker\": {\"colorbar\": {\"outlinewidth\": 0, \"ticks\": \"\"}}, \"type\": \"scatterpolar\"}], \"scatterpolargl\": [{\"marker\": {\"colorbar\": {\"outlinewidth\": 0, \"ticks\": \"\"}}, \"type\": \"scatterpolargl\"}], \"scatterternary\": [{\"marker\": {\"colorbar\": {\"outlinewidth\": 0, \"ticks\": \"\"}}, \"type\": \"scatterternary\"}], \"surface\": [{\"colorbar\": {\"outlinewidth\": 0, \"ticks\": \"\"}, \"colorscale\": [[0.0, \"#0d0887\"], [0.1111111111111111, \"#46039f\"], [0.2222222222222222, \"#7201a8\"], [0.3333333333333333, \"#9c179e\"], [0.4444444444444444, \"#bd3786\"], [0.5555555555555556, \"#d8576b\"], [0.6666666666666666, \"#ed7953\"], [0.7777777777777778, \"#fb9f3a\"], [0.8888888888888888, \"#fdca26\"], [1.0, \"#f0f921\"]], \"type\": \"surface\"}], \"table\": [{\"cells\": {\"fill\": {\"color\": \"#506784\"}, \"line\": {\"color\": \"rgb(17,17,17)\"}}, \"header\": {\"fill\": {\"color\": \"#2a3f5f\"}, \"line\": {\"color\": \"rgb(17,17,17)\"}}, \"type\": \"table\"}]}, \"layout\": {\"annotationdefaults\": {\"arrowcolor\": \"#f2f5fa\", \"arrowhead\": 0, \"arrowwidth\": 1}, \"coloraxis\": {\"colorbar\": {\"outlinewidth\": 0, \"ticks\": \"\"}}, \"colorscale\": {\"diverging\": [[0, \"#8e0152\"], [0.1, \"#c51b7d\"], [0.2, \"#de77ae\"], [0.3, \"#f1b6da\"], [0.4, \"#fde0ef\"], [0.5, \"#f7f7f7\"], [0.6, \"#e6f5d0\"], [0.7, \"#b8e186\"], [0.8, \"#7fbc41\"], [0.9, \"#4d9221\"], [1, \"#276419\"]], \"sequential\": [[0.0, \"#0d0887\"], [0.1111111111111111, \"#46039f\"], [0.2222222222222222, \"#7201a8\"], [0.3333333333333333, \"#9c179e\"], [0.4444444444444444, \"#bd3786\"], [0.5555555555555556, \"#d8576b\"], [0.6666666666666666, \"#ed7953\"], [0.7777777777777778, \"#fb9f3a\"], [0.8888888888888888, \"#fdca26\"], [1.0, \"#f0f921\"]], \"sequentialminus\": [[0.0, \"#0d0887\"], [0.1111111111111111, \"#46039f\"], [0.2222222222222222, \"#7201a8\"], [0.3333333333333333, \"#9c179e\"], [0.4444444444444444, \"#bd3786\"], [0.5555555555555556, \"#d8576b\"], [0.6666666666666666, \"#ed7953\"], [0.7777777777777778, \"#fb9f3a\"], [0.8888888888888888, \"#fdca26\"], [1.0, \"#f0f921\"]]}, \"colorway\": [\"#636efa\", \"#EF553B\", \"#00cc96\", \"#ab63fa\", \"#FFA15A\", \"#19d3f3\", \"#FF6692\", \"#B6E880\", \"#FF97FF\", \"#FECB52\"], \"font\": {\"color\": \"#f2f5fa\"}, \"geo\": {\"bgcolor\": \"rgb(17,17,17)\", \"lakecolor\": \"rgb(17,17,17)\", \"landcolor\": \"rgb(17,17,17)\", \"showlakes\": true, \"showland\": true, \"subunitcolor\": \"#506784\"}, \"hoverlabel\": {\"align\": \"left\"}, \"hovermode\": \"closest\", \"mapbox\": {\"style\": \"dark\"}, \"paper_bgcolor\": \"rgb(17,17,17)\", \"plot_bgcolor\": \"rgb(17,17,17)\", \"polar\": {\"angularaxis\": {\"gridcolor\": \"#506784\", \"linecolor\": \"#506784\", \"ticks\": \"\"}, \"bgcolor\": \"rgb(17,17,17)\", \"radialaxis\": {\"gridcolor\": \"#506784\", \"linecolor\": \"#506784\", \"ticks\": \"\"}}, \"scene\": {\"xaxis\": {\"backgroundcolor\": \"rgb(17,17,17)\", \"gridcolor\": \"#506784\", \"gridwidth\": 2, \"linecolor\": \"#506784\", \"showbackground\": true, \"ticks\": \"\", \"zerolinecolor\": \"#C8D4E3\"}, \"yaxis\": {\"backgroundcolor\": \"rgb(17,17,17)\", \"gridcolor\": \"#506784\", \"gridwidth\": 2, \"linecolor\": \"#506784\", \"showbackground\": true, \"ticks\": \"\", \"zerolinecolor\": \"#C8D4E3\"}, \"zaxis\": {\"backgroundcolor\": \"rgb(17,17,17)\", \"gridcolor\": \"#506784\", \"gridwidth\": 2, \"linecolor\": \"#506784\", \"showbackground\": true, \"ticks\": \"\", \"zerolinecolor\": \"#C8D4E3\"}}, \"shapedefaults\": {\"line\": {\"color\": \"#f2f5fa\"}}, \"sliderdefaults\": {\"bgcolor\": \"#C8D4E3\", \"bordercolor\": \"rgb(17,17,17)\", \"borderwidth\": 1, \"tickwidth\": 0}, \"ternary\": {\"aaxis\": {\"gridcolor\": \"#506784\", \"linecolor\": \"#506784\", \"ticks\": \"\"}, \"baxis\": {\"gridcolor\": \"#506784\", \"linecolor\": \"#506784\", \"ticks\": \"\"}, \"bgcolor\": \"rgb(17,17,17)\", \"caxis\": {\"gridcolor\": \"#506784\", \"linecolor\": \"#506784\", \"ticks\": \"\"}}, \"title\": {\"x\": 0.05}, \"updatemenudefaults\": {\"bgcolor\": \"#506784\", \"borderwidth\": 0}, \"xaxis\": {\"automargin\": true, \"gridcolor\": \"#283442\", \"linecolor\": \"#506784\", \"ticks\": \"\", \"title\": {\"standoff\": 15}, \"zerolinecolor\": \"#283442\", \"zerolinewidth\": 2}, \"yaxis\": {\"automargin\": true, \"gridcolor\": \"#283442\", \"linecolor\": \"#506784\", \"ticks\": \"\", \"title\": {\"standoff\": 15}, \"zerolinecolor\": \"#283442\", \"zerolinewidth\": 2}}}, \"title\": {\"text\": \"Sentiment Over Time\"}, \"xaxis\": {\"anchor\": \"y\", \"domain\": [0.0, 0.7363], \"title\": {\"text\": \"Date\"}}, \"xaxis2\": {\"anchor\": \"y2\", \"domain\": [0.7413, 1.0], \"matches\": \"x2\", \"showgrid\": true, \"showline\": false, \"showticklabels\": false, \"ticks\": \"\"}, \"yaxis\": {\"anchor\": \"x\", \"domain\": [0.0, 1.0], \"title\": {\"text\": \"Sentiment\"}}, \"yaxis2\": {\"anchor\": \"x2\", \"domain\": [0.0, 1.0], \"matches\": \"y\", \"showgrid\": true, \"showticklabels\": false}},\n",
       "                        {\"responsive\": true}\n",
       "                    ).then(function(){\n",
       "                            \n",
       "var gd = document.getElementById('d14f3ed5-6b28-400f-8df5-f0f08bf26f64');\n",
       "var x = new MutationObserver(function (mutations, observer) {{\n",
       "        var display = window.getComputedStyle(gd).display;\n",
       "        if (!display || display === 'none') {{\n",
       "            console.log([gd, 'removed!']);\n",
       "            Plotly.purge(gd);\n",
       "            observer.disconnect();\n",
       "        }}\n",
       "}});\n",
       "\n",
       "// Listen for the removal of the full notebook cells\n",
       "var notebookContainer = gd.closest('#notebook-container');\n",
       "if (notebookContainer) {{\n",
       "    x.observe(notebookContainer, {childList: true});\n",
       "}}\n",
       "\n",
       "// Listen for the clearing of the current output cell\n",
       "var outputEl = gd.closest('.output');\n",
       "if (outputEl) {{\n",
       "    x.observe(outputEl, {childList: true});\n",
       "}}\n",
       "\n",
       "                        })\n",
       "                };\n",
       "                });\n",
       "            </script>\n",
       "        </div>"
      ]
     },
     "metadata": {},
     "output_type": "display_data"
    }
   ],
   "source": [
    "\n",
    "## 3rd figure\n",
    "figs2 = px.scatter(data, x='Date', y= 'new_sent',color = 'Sentiment',\n",
    "           marginal_y = 'histogram', title = 'Sentiment Over Time', \n",
    "           template = 'plotly_dark',labels = {\"new_sent\":\"Sentiment\"}, \n",
    "           color_continuous_scale=[\"red\", \"green\", \"blue\"],  \n",
    "           color_discrete_sequence=['green', 'blue', 'red'])\n",
    "\n",
    "figs2.update_traces(hovertemplate=None)"
   ]
  },
  {
   "cell_type": "code",
   "execution_count": 46,
   "metadata": {},
   "outputs": [],
   "source": [
    "best_tweet = data.sort_values('Likes', ascending =False)\n",
    "best_tweet = best_tweet.reset_index(drop=True)"
   ]
  },
  {
   "cell_type": "code",
   "execution_count": 47,
   "metadata": {},
   "outputs": [
    {
     "data": {
      "text/plain": [
       "'If the United States had implemented social distancing policies just a week sooner, it could have prevented more th… https://t.co/gcoNaSHxw5'"
      ]
     },
     "execution_count": 47,
     "metadata": {},
     "output_type": "execute_result"
    }
   ],
   "source": [
    "best_tweet = data.sort_values('Likes', ascending =False)\n",
    "best_tweet = best_tweet.reset_index(drop=True)\n",
    "\n",
    "best_tweet.at[0,'Tweets']"
   ]
  },
  {
   "cell_type": "code",
   "execution_count": null,
   "metadata": {},
   "outputs": [],
   "source": []
  }
 ],
 "metadata": {
  "kernelspec": {
   "display_name": "Python 3",
   "language": "python",
   "name": "python3"
  },
  "language_info": {
   "codemirror_mode": {
    "name": "ipython",
    "version": 3
   },
   "file_extension": ".py",
   "mimetype": "text/x-python",
   "name": "python",
   "nbconvert_exporter": "python",
   "pygments_lexer": "ipython3",
   "version": "3.7.4"
  }
 },
 "nbformat": 4,
 "nbformat_minor": 2
}
